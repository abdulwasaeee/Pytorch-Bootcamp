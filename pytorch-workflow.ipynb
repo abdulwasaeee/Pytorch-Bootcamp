{
  "nbformat": 4,
  "nbformat_minor": 0,
  "metadata": {
    "colab": {
      "provenance": [],
      "authorship_tag": "ABX9TyO5J47oJn+e5GweexNEzVj8",
      "include_colab_link": true
    },
    "kernelspec": {
      "name": "python3",
      "display_name": "Python 3"
    },
    "language_info": {
      "name": "python"
    }
  },
  "cells": [
    {
      "cell_type": "markdown",
      "metadata": {
        "id": "view-in-github",
        "colab_type": "text"
      },
      "source": [
        "<a href=\"https://colab.research.google.com/github/abdulwasaeee/Pytorch-Bootcamp/blob/main/pytorch-workflow.ipynb\" target=\"_parent\"><img src=\"https://colab.research.google.com/assets/colab-badge.svg\" alt=\"Open In Colab\"/></a>"
      ]
    },
    {
      "cell_type": "code",
      "execution_count": 55,
      "metadata": {
        "id": "HrTKoLagbCvN"
      },
      "outputs": [],
      "source": [
        "import torch\n",
        "from  torch import nn\n",
        "import matplotlib.pyplot as plt"
      ]
    },
    {
      "cell_type": "code",
      "source": [
        "torch.__version__"
      ],
      "metadata": {
        "colab": {
          "base_uri": "https://localhost:8080/",
          "height": 36
        },
        "id": "04W41E0DcHaU",
        "outputId": "56ae3e15-6c60-4689-dcbf-ae6e5d4f1fa2"
      },
      "execution_count": 56,
      "outputs": [
        {
          "output_type": "execute_result",
          "data": {
            "text/plain": [
              "'2.8.0+cu126'"
            ],
            "application/vnd.google.colaboratory.intrinsic+json": {
              "type": "string"
            }
          },
          "metadata": {},
          "execution_count": 56
        }
      ]
    },
    {
      "cell_type": "code",
      "source": [
        "w= 0.7\n",
        "b=0.3\n",
        "x= torch.arange(0,1,0.02).unsqueeze(dim=1)\n",
        "x"
      ],
      "metadata": {
        "colab": {
          "base_uri": "https://localhost:8080/"
        },
        "id": "Sa6VNnK3cMat",
        "outputId": "e77ffda6-792b-47e7-bfc7-745e288cc87a"
      },
      "execution_count": 57,
      "outputs": [
        {
          "output_type": "execute_result",
          "data": {
            "text/plain": [
              "tensor([[0.0000],\n",
              "        [0.0200],\n",
              "        [0.0400],\n",
              "        [0.0600],\n",
              "        [0.0800],\n",
              "        [0.1000],\n",
              "        [0.1200],\n",
              "        [0.1400],\n",
              "        [0.1600],\n",
              "        [0.1800],\n",
              "        [0.2000],\n",
              "        [0.2200],\n",
              "        [0.2400],\n",
              "        [0.2600],\n",
              "        [0.2800],\n",
              "        [0.3000],\n",
              "        [0.3200],\n",
              "        [0.3400],\n",
              "        [0.3600],\n",
              "        [0.3800],\n",
              "        [0.4000],\n",
              "        [0.4200],\n",
              "        [0.4400],\n",
              "        [0.4600],\n",
              "        [0.4800],\n",
              "        [0.5000],\n",
              "        [0.5200],\n",
              "        [0.5400],\n",
              "        [0.5600],\n",
              "        [0.5800],\n",
              "        [0.6000],\n",
              "        [0.6200],\n",
              "        [0.6400],\n",
              "        [0.6600],\n",
              "        [0.6800],\n",
              "        [0.7000],\n",
              "        [0.7200],\n",
              "        [0.7400],\n",
              "        [0.7600],\n",
              "        [0.7800],\n",
              "        [0.8000],\n",
              "        [0.8200],\n",
              "        [0.8400],\n",
              "        [0.8600],\n",
              "        [0.8800],\n",
              "        [0.9000],\n",
              "        [0.9200],\n",
              "        [0.9400],\n",
              "        [0.9600],\n",
              "        [0.9800]])"
            ]
          },
          "metadata": {},
          "execution_count": 57
        }
      ]
    },
    {
      "cell_type": "code",
      "source": [
        "y= w*x + b\n",
        "y"
      ],
      "metadata": {
        "colab": {
          "base_uri": "https://localhost:8080/"
        },
        "id": "83D64BJ1cA7N",
        "outputId": "d2dd2aac-9488-4c33-e938-4589d3b79890"
      },
      "execution_count": 58,
      "outputs": [
        {
          "output_type": "execute_result",
          "data": {
            "text/plain": [
              "tensor([[0.3000],\n",
              "        [0.3140],\n",
              "        [0.3280],\n",
              "        [0.3420],\n",
              "        [0.3560],\n",
              "        [0.3700],\n",
              "        [0.3840],\n",
              "        [0.3980],\n",
              "        [0.4120],\n",
              "        [0.4260],\n",
              "        [0.4400],\n",
              "        [0.4540],\n",
              "        [0.4680],\n",
              "        [0.4820],\n",
              "        [0.4960],\n",
              "        [0.5100],\n",
              "        [0.5240],\n",
              "        [0.5380],\n",
              "        [0.5520],\n",
              "        [0.5660],\n",
              "        [0.5800],\n",
              "        [0.5940],\n",
              "        [0.6080],\n",
              "        [0.6220],\n",
              "        [0.6360],\n",
              "        [0.6500],\n",
              "        [0.6640],\n",
              "        [0.6780],\n",
              "        [0.6920],\n",
              "        [0.7060],\n",
              "        [0.7200],\n",
              "        [0.7340],\n",
              "        [0.7480],\n",
              "        [0.7620],\n",
              "        [0.7760],\n",
              "        [0.7900],\n",
              "        [0.8040],\n",
              "        [0.8180],\n",
              "        [0.8320],\n",
              "        [0.8460],\n",
              "        [0.8600],\n",
              "        [0.8740],\n",
              "        [0.8880],\n",
              "        [0.9020],\n",
              "        [0.9160],\n",
              "        [0.9300],\n",
              "        [0.9440],\n",
              "        [0.9580],\n",
              "        [0.9720],\n",
              "        [0.9860]])"
            ]
          },
          "metadata": {},
          "execution_count": 58
        }
      ]
    },
    {
      "cell_type": "code",
      "source": [
        "len(x), len(y)"
      ],
      "metadata": {
        "colab": {
          "base_uri": "https://localhost:8080/"
        },
        "id": "UmEwj74Mg4YC",
        "outputId": "0039bb68-6d7b-431b-ac88-6934cefaab28"
      },
      "execution_count": 59,
      "outputs": [
        {
          "output_type": "execute_result",
          "data": {
            "text/plain": [
              "(50, 50)"
            ]
          },
          "metadata": {},
          "execution_count": 59
        }
      ]
    },
    {
      "cell_type": "code",
      "source": [
        "trainsplit=int(0.8*len(x))\n",
        "trainsplit"
      ],
      "metadata": {
        "colab": {
          "base_uri": "https://localhost:8080/"
        },
        "id": "PyAZfrP-5KZb",
        "outputId": "7cbe8733-b210-43de-fb2d-13a57aa3871b"
      },
      "execution_count": 60,
      "outputs": [
        {
          "output_type": "execute_result",
          "data": {
            "text/plain": [
              "40"
            ]
          },
          "metadata": {},
          "execution_count": 60
        }
      ]
    },
    {
      "cell_type": "code",
      "source": [
        "xtrain, ytrain= x[:trainsplit],   y[:trainsplit]\n",
        "len(xtrain),    len(ytrain)"
      ],
      "metadata": {
        "colab": {
          "base_uri": "https://localhost:8080/"
        },
        "id": "51N4_njo5YQs",
        "outputId": "81a69661-6b48-4d65-b0f1-6247892fc6d7"
      },
      "execution_count": 61,
      "outputs": [
        {
          "output_type": "execute_result",
          "data": {
            "text/plain": [
              "(40, 40)"
            ]
          },
          "metadata": {},
          "execution_count": 61
        }
      ]
    },
    {
      "cell_type": "code",
      "source": [
        "xtest,  ytest= x[trainsplit:], y[trainsplit:]\n",
        "len(xtest),    len(ytest)"
      ],
      "metadata": {
        "colab": {
          "base_uri": "https://localhost:8080/"
        },
        "id": "BjUNWV0O5kyy",
        "outputId": "72fbbf0c-428f-470e-869d-87fb20e5b197"
      },
      "execution_count": 62,
      "outputs": [
        {
          "output_type": "execute_result",
          "data": {
            "text/plain": [
              "(10, 10)"
            ]
          },
          "metadata": {},
          "execution_count": 62
        }
      ]
    },
    {
      "cell_type": "code",
      "source": [
        "plt.scatter(xtrain, ytrain, c='b')\n",
        "plt.scatter(xtest,    ytest, c='g')\n"
      ],
      "metadata": {
        "colab": {
          "base_uri": "https://localhost:8080/",
          "height": 447
        },
        "id": "lv-Jdo5W5zgs",
        "outputId": "e02908a7-3bfa-4bfb-9e04-3d3d42063d9d"
      },
      "execution_count": 63,
      "outputs": [
        {
          "output_type": "execute_result",
          "data": {
            "text/plain": [
              "<matplotlib.collections.PathCollection at 0x7d1df4c39dc0>"
            ]
          },
          "metadata": {},
          "execution_count": 63
        },
        {
          "output_type": "display_data",
          "data": {
            "text/plain": [
              "<Figure size 640x480 with 1 Axes>"
            ],
            "image/png": "[encoded data removed]"
          },
          "metadata": {}
        }
      ]
    },
    {
      "cell_type": "code",
      "source": [
        "class LRM(nn.Module):\n",
        "  def __init__(self):\n",
        "    super().__init__()\n",
        "    self.weights=nn.Parameter(torch.rand(1,dtype=torch.float),requires_grad=True)\n",
        "    self.bias=nn.Parameter(torch.rand(1,dtype=torch.float),requires_grad=True)\n",
        "\n",
        "  def forward(self, x):\n",
        "    return self.weights * x + self.bias\n",
        "\n"
      ],
      "metadata": {
        "id": "IHF8_sb0-Kb1"
      },
      "execution_count": 64,
      "outputs": []
    },
    {
      "cell_type": "code",
      "source": [
        "torch.manual_seed(42)\n",
        "\n",
        "model=LRM()\n",
        "model"
      ],
      "metadata": {
        "id": "YyLDhZiZCGRe",
        "colab": {
          "base_uri": "https://localhost:8080/"
        },
        "outputId": "fc7f716b-2942-496c-9ea3-10f6a8d7d916"
      },
      "execution_count": 65,
      "outputs": [
        {
          "output_type": "execute_result",
          "data": {
            "text/plain": [
              "LRM()"
            ]
          },
          "metadata": {},
          "execution_count": 65
        }
      ]
    },
    {
      "cell_type": "code",
      "source": [
        "list(model.parameters())"
      ],
      "metadata": {
        "colab": {
          "base_uri": "https://localhost:8080/"
        },
        "id": "t0AooyNPMSnQ",
        "outputId": "e050a46b-c28a-4934-bfb7-6997ecf313c2"
      },
      "execution_count": 66,
      "outputs": [
        {
          "output_type": "execute_result",
          "data": {
            "text/plain": [
              "[Parameter containing:\n",
              " tensor([0.8823], requires_grad=True),\n",
              " Parameter containing:\n",
              " tensor([0.9150], requires_grad=True)]"
            ]
          },
          "metadata": {},
          "execution_count": 66
        }
      ]
    },
    {
      "cell_type": "code",
      "source": [
        "model.state_dict()"
      ],
      "metadata": {
        "colab": {
          "base_uri": "https://localhost:8080/"
        },
        "id": "M-KkYOIWM9lX",
        "outputId": "fb7bbc54-9a87-4573-d58d-2f4499e3305b"
      },
      "execution_count": 67,
      "outputs": [
        {
          "output_type": "execute_result",
          "data": {
            "text/plain": [
              "OrderedDict([('weights', tensor([0.8823])), ('bias', tensor([0.9150]))])"
            ]
          },
          "metadata": {},
          "execution_count": 67
        }
      ]
    },
    {
      "cell_type": "code",
      "source": [
        "with torch.inference_mode():\n",
        "  ypreds=model(xtest)\n",
        "\n",
        "ypreds"
      ],
      "metadata": {
        "colab": {
          "base_uri": "https://localhost:8080/"
        },
        "id": "AoDqtrK4NAoc",
        "outputId": "cbe61502-5e3a-4851-b911-bd7aec93da70"
      },
      "execution_count": 68,
      "outputs": [
        {
          "output_type": "execute_result",
          "data": {
            "text/plain": [
              "tensor([[1.6208],\n",
              "        [1.6385],\n",
              "        [1.6561],\n",
              "        [1.6738],\n",
              "        [1.6914],\n",
              "        [1.7090],\n",
              "        [1.7267],\n",
              "        [1.7443],\n",
              "        [1.7620],\n",
              "        [1.7796]])"
            ]
          },
          "metadata": {},
          "execution_count": 68
        }
      ]
    },
    {
      "cell_type": "code",
      "source": [
        "plt.scatter(xtrain, ytrain, c='b')\n",
        "plt.scatter(xtest,ypreds,c='r')"
      ],
      "metadata": {
        "colab": {
          "base_uri": "https://localhost:8080/",
          "height": 447
        },
        "id": "bGxByjN7TJ7m",
        "outputId": "03c03fa1-93a7-48e4-a29a-1ad360fa4848"
      },
      "execution_count": 69,
      "outputs": [
        {
          "output_type": "execute_result",
          "data": {
            "text/plain": [
              "<matplotlib.collections.PathCollection at 0x7d1df4c98a70>"
            ]
          },
          "metadata": {},
          "execution_count": 69
        },
        {
          "output_type": "display_data",
          "data": {
            "text/plain": [
              "<Figure size 640x480 with 1 Axes>"
            ],
            "image/png": "[encoded data removed]"
          },
          "metadata": {}
        }
      ]
    },
    {
      "cell_type": "code",
      "source": [
        "lossfn= nn.L1Loss()"
      ],
      "metadata": {
        "id": "hZSE469vTeDe"
      },
      "execution_count": 70,
      "outputs": []
    },
    {
      "cell_type": "code",
      "source": [
        "opt=torch.optim.Adam(params=model.parameters(), lr=0.01)"
      ],
      "metadata": {
        "id": "PNwnF9SnVvBG"
      },
      "execution_count": 71,
      "outputs": []
    },
    {
      "cell_type": "code",
      "source": [
        "e=[]\n",
        "t=[]\n",
        "v=[]"
      ],
      "metadata": {
        "id": "vkNxk1ot7SDx"
      },
      "execution_count": 72,
      "outputs": []
    },
    {
      "cell_type": "code",
      "source": [
        "torch.manual_seed(42)\n",
        "epochs=100\n",
        "\n",
        "for i in range(epochs):\n",
        "  model.train()\n",
        "  ypred= model(xtrain)\n",
        "  loss= lossfn(ypred, ytrain)\n",
        "  opt.zero_grad()\n",
        "  loss.backward()\n",
        "  opt.step()\n",
        "  model.eval()\n",
        "  with torch.inference_mode():\n",
        "    testpred=model(xtest)\n",
        "    testloss=lossfn(testpred,ytest)\n",
        "    e.append(i)\n",
        "    t.append(loss)\n",
        "    v.append(testloss)\n",
        "  if i%10==0:\n",
        "\n",
        "    print(f\"epoch: {i} | loss : {loss} | testloss: {testloss}\")\n",
        "    print(model.state_dict())\n"
      ],
      "metadata": {
        "colab": {
          "base_uri": "https://localhost:8080/"
        },
        "id": "Y3OBEhUHWUs6",
        "outputId": "e0d8d13d-b1b5-4d1d-ca6d-e18e039b0264"
      },
      "execution_count": 73,
      "outputs": [
        {
          "output_type": "stream",
          "name": "stdout",
          "text": [
            "epoch: 0 | loss : 0.6860889196395874 | testloss: 0.758323609828949\n",
            "OrderedDict({'weights': tensor([0.8723]), 'bias': tensor([0.9050])})\n",
            "epoch: 10 | loss : 0.5470890998840332 | testloss: 0.5693238377571106\n",
            "OrderedDict({'weights': tensor([0.7723]), 'bias': tensor([0.8050])})\n",
            "epoch: 20 | loss : 0.40808922052383423 | testloss: 0.38032394647598267\n",
            "OrderedDict({'weights': tensor([0.6723]), 'bias': tensor([0.7050])})\n",
            "epoch: 30 | loss : 0.26908937096595764 | testloss: 0.1913241446018219\n",
            "OrderedDict({'weights': tensor([0.5723]), 'bias': tensor([0.6050])})\n",
            "epoch: 40 | loss : 0.13008949160575867 | testloss: 0.011395913548767567\n",
            "OrderedDict({'weights': tensor([0.4723]), 'bias': tensor([0.5050])})\n",
            "epoch: 50 | loss : 0.060536496341228485 | testloss: 0.1556810438632965\n",
            "OrderedDict({'weights': tensor([0.3938]), 'bias': tensor([0.4168])})\n",
            "epoch: 60 | loss : 0.06581138074398041 | testloss: 0.1845102608203888\n",
            "OrderedDict({'weights': tensor([0.3989]), 'bias': tensor([0.3835])})\n",
            "epoch: 70 | loss : 0.05084076523780823 | testloss: 0.12837186455726624\n",
            "OrderedDict({'weights': tensor([0.4543]), 'bias': tensor([0.3903])})\n",
            "epoch: 80 | loss : 0.040861211717128754 | testloss: 0.07132770121097565\n",
            "OrderedDict({'weights': tensor([0.5143]), 'bias': tensor([0.3940])})\n",
            "epoch: 90 | loss : 0.032108426094055176 | testloss: 0.05939961224794388\n",
            "OrderedDict({'weights': tensor([0.5531]), 'bias': tensor([0.3713])})\n"
          ]
        }
      ]
    },
    {
      "cell_type": "code",
      "source": [
        "model.state_dict()"
      ],
      "metadata": {
        "colab": {
          "base_uri": "https://localhost:8080/"
        },
        "id": "6I0PxBiTYWjK",
        "outputId": "128934af-f0a2-4f0c-867e-87517211c9cf"
      },
      "execution_count": 74,
      "outputs": [
        {
          "output_type": "execute_result",
          "data": {
            "text/plain": [
              "OrderedDict([('weights', tensor([0.5866])), ('bias', tensor([0.3456]))])"
            ]
          },
          "metadata": {},
          "execution_count": 74
        }
      ]
    },
    {
      "cell_type": "code",
      "source": [
        "w, b"
      ],
      "metadata": {
        "colab": {
          "base_uri": "https://localhost:8080/"
        },
        "id": "BWBD2SDZd2ZE",
        "outputId": "e21c379a-9fa1-49a7-f50f-dd99934100ff"
      },
      "execution_count": 75,
      "outputs": [
        {
          "output_type": "execute_result",
          "data": {
            "text/plain": [
              "(0.7, 0.3)"
            ]
          },
          "metadata": {},
          "execution_count": 75
        }
      ]
    },
    {
      "cell_type": "code",
      "source": [
        "with torch.inference_mode():\n",
        "  ypreds2=model(xtest)\n",
        "\n",
        "plt.scatter(xtrain, ytrain, c='black')\n",
        "plt.scatter(xtest,ypreds2,c='g')"
      ],
      "metadata": {
        "colab": {
          "base_uri": "https://localhost:8080/",
          "height": 447
        },
        "id": "G_f9Rc6teMYM",
        "outputId": "569829bb-a5c9-4ceb-efbd-21511d551adc"
      },
      "execution_count": 76,
      "outputs": [
        {
          "output_type": "execute_result",
          "data": {
            "text/plain": [
              "<matplotlib.collections.PathCollection at 0x7d1df4c27680>"
            ]
          },
          "metadata": {},
          "execution_count": 76
        },
        {
          "output_type": "display_data",
          "data": {
            "text/plain": [
              "<Figure size 640x480 with 1 Axes>"
            ],
            "image/png": "[encoded data removed]"
          },
          "metadata": {}
        }
      ]
    },
    {
      "cell_type": "code",
      "source": [
        "t[1].detach().numpy()"
      ],
      "metadata": {
        "colab": {
          "base_uri": "https://localhost:8080/"
        },
        "id": "e6IVVfir8Ro-",
        "outputId": "1a543112-3790-40a4-bfcb-80843328c1d9"
      },
      "execution_count": 77,
      "outputs": [
        {
          "output_type": "execute_result",
          "data": {
            "text/plain": [
              "array(0.672189, dtype=float32)"
            ]
          },
          "metadata": {},
          "execution_count": 77
        }
      ]
    },
    {
      "cell_type": "code",
      "source": [
        "plt.plot(e, [tensor.detach().numpy() for tensor in t], label='trainloss', c='g')\n",
        "plt.plot(e, [tensor.detach().numpy() for tensor in v], label='testloss', c='r')\n",
        "plt.legend()"
      ],
      "metadata": {
        "colab": {
          "base_uri": "https://localhost:8080/",
          "height": 447
        },
        "id": "of7iMlYk71-C",
        "outputId": "75ac0147-1973-408f-8012-9f75de88ad82"
      },
      "execution_count": 78,
      "outputs": [
        {
          "output_type": "execute_result",
          "data": {
            "text/plain": [
              "<matplotlib.legend.Legend at 0x7d1df4c11ac0>"
            ]
          },
          "metadata": {},
          "execution_count": 78
        },
        {
          "output_type": "display_data",
          "data": {
            "text/plain": [
              "<Figure size 640x480 with 1 Axes>"
            ],
            "image/png": "[encoded data removed]"
          },
          "metadata": {}
        }
      ]
    },
    {
      "cell_type": "code",
      "source": [
        "torch.save(model,'model.pt')"
      ],
      "metadata": {
        "id": "hHLHybdL-kR2"
      },
      "execution_count": 79,
      "outputs": []
    },
    {
      "cell_type": "code",
      "source": [
        "m2=torch.load('model.pt',weights_only=False)"
      ],
      "metadata": {
        "id": "wej3BWHY_uZY"
      },
      "execution_count": 80,
      "outputs": []
    },
    {
      "cell_type": "code",
      "source": [
        "m2(xtest)"
      ],
      "metadata": {
        "colab": {
          "base_uri": "https://localhost:8080/"
        },
        "id": "efe3tn9L_693",
        "outputId": "23127580-bcb5-4b6c-86b1-e114325b6b7c"
      },
      "execution_count": 81,
      "outputs": [
        {
          "output_type": "execute_result",
          "data": {
            "text/plain": [
              "tensor([[0.8149],\n",
              "        [0.8266],\n",
              "        [0.8383],\n",
              "        [0.8501],\n",
              "        [0.8618],\n",
              "        [0.8735],\n",
              "        [0.8853],\n",
              "        [0.8970],\n",
              "        [0.9087],\n",
              "        [0.9205]], grad_fn=<AddBackward0>)"
            ]
          },
          "metadata": {},
          "execution_count": 81
        }
      ]
    },
    {
      "cell_type": "code",
      "source": [
        "model.state_dict()"
      ],
      "metadata": {
        "colab": {
          "base_uri": "https://localhost:8080/"
        },
        "id": "bamqq7eZAIO9",
        "outputId": "3e035f6f-e6ae-4739-c84e-323118f748d4"
      },
      "execution_count": 82,
      "outputs": [
        {
          "output_type": "execute_result",
          "data": {
            "text/plain": [
              "OrderedDict([('weights', tensor([0.5866])), ('bias', tensor([0.3456]))])"
            ]
          },
          "metadata": {},
          "execution_count": 82
        }
      ]
    },
    {
      "cell_type": "code",
      "source": [
        "m2.state_dict()"
      ],
      "metadata": {
        "colab": {
          "base_uri": "https://localhost:8080/"
        },
        "id": "bX5qLIDCALR4",
        "outputId": "84b8e7e3-2ac3-4c02-9969-44ad9a1fdfb8"
      },
      "execution_count": 83,
      "outputs": [
        {
          "output_type": "execute_result",
          "data": {
            "text/plain": [
              "OrderedDict([('weights', tensor([0.5866])), ('bias', tensor([0.3456]))])"
            ]
          },
          "metadata": {},
          "execution_count": 83
        }
      ]
    },
    {
      "cell_type": "code",
      "source": [
        "m3=LRM()\n",
        "m3.state_dict()"
      ],
      "metadata": {
        "colab": {
          "base_uri": "https://localhost:8080/"
        },
        "id": "EmfzxO7rCO9r",
        "outputId": "d8691e53-2723-4f99-83dd-ea47dc6196a6"
      },
      "execution_count": 85,
      "outputs": [
        {
          "output_type": "execute_result",
          "data": {
            "text/plain": [
              "OrderedDict([('weights', tensor([0.8823])), ('bias', tensor([0.9150]))])"
            ]
          },
          "metadata": {},
          "execution_count": 85
        }
      ]
    },
    {
      "cell_type": "code",
      "source": [
        "torch.save(model.state_dict(),'modeldict.pt')"
      ],
      "metadata": {
        "id": "tkbBtGmTCVe_"
      },
      "execution_count": 86,
      "outputs": []
    },
    {
      "cell_type": "code",
      "source": [
        "m4=LRM()\n",
        "m4.load_state_dict(torch.load('modeldict.pt'))\n",
        "m4.state_dict()"
      ],
      "metadata": {
        "colab": {
          "base_uri": "https://localhost:8080/"
        },
        "id": "Ki5GmBM-DNLZ",
        "outputId": "667e01fd-6395-44c3-e6d9-56fcfa2886f7"
      },
      "execution_count": 88,
      "outputs": [
        {
          "output_type": "execute_result",
          "data": {
            "text/plain": [
              "OrderedDict([('weights', tensor([0.5866])), ('bias', tensor([0.3456]))])"
            ]
          },
          "metadata": {},
          "execution_count": 88
        }
      ]
    }
  ]
}