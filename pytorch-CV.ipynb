{
  "nbformat": 4,
  "nbformat_minor": 0,
  "metadata": {
    "colab": {
      "provenance": [],
      "gpuType": "T4",
      "authorship_tag": "ABX9TyMPMK8VEXdklA3+mAveNAyR",
      "include_colab_link": true
    },
    "kernelspec": {
      "name": "python3",
      "display_name": "Python 3"
    },
    "language_info": {
      "name": "python"
    },
    "accelerator": "GPU",
    "widgets": {
      "application/vnd.jupyter.widget-state+json": {
        "4276e853039147c69b548fa5ad1e26ac": {
          "model_module": "@jupyter-widgets/controls",
          "model_name": "HBoxModel",
          "model_module_version": "1.5.0",
          "state": {
            "_dom_classes": [],
            "_model_module": "@jupyter-widgets/controls",
            "_model_module_version": "1.5.0",
            "_model_name": "HBoxModel",
            "_view_count": null,
            "_view_module": "@jupyter-widgets/controls",
            "_view_module_version": "1.5.0",
            "_view_name": "HBoxView",
            "box_style": "",
            "children": [
              "IPY_MODEL_8c5c31e33a9a4e1ab54e9bfab4690fe9",
              "IPY_MODEL_7986343236f34f0ab529b72e89542094",
              "IPY_MODEL_1430c8e36c5d48a1808f69b8be3e0cd0"
            ],
            "layout": "IPY_MODEL_4b46d37e0e004b3992547e81d38c6f45"
          }
        },
        "8c5c31e33a9a4e1ab54e9bfab4690fe9": {
          "model_module": "@jupyter-widgets/controls",
          "model_name": "HTMLModel",
          "model_module_version": "1.5.0",
          "state": {
            "_dom_classes": [],
            "_model_module": "@jupyter-widgets/controls",
            "_model_module_version": "1.5.0",
            "_model_name": "HTMLModel",
            "_view_count": null,
            "_view_module": "@jupyter-widgets/controls",
            "_view_module_version": "1.5.0",
            "_view_name": "HTMLView",
            "description": "",
            "description_tooltip": null,
            "layout": "IPY_MODEL_4766e8308634481fb580f7723379d00a",
            "placeholder": "​",
            "style": "IPY_MODEL_096ab2bdb8f14bbf8498a8ad1a0a021e",
            "value": "100%"
          }
        },
        "7986343236f34f0ab529b72e89542094": {
          "model_module": "@jupyter-widgets/controls",
          "model_name": "FloatProgressModel",
          "model_module_version": "1.5.0",
          "state": {
            "_dom_classes": [],
            "_model_module": "@jupyter-widgets/controls",
            "_model_module_version": "1.5.0",
            "_model_name": "FloatProgressModel",
            "_view_count": null,
            "_view_module": "@jupyter-widgets/controls",
            "_view_module_version": "1.5.0",
            "_view_name": "ProgressView",
            "bar_style": "success",
            "description": "",
            "description_tooltip": null,
            "layout": "IPY_MODEL_9c9150edaece4426b32867b7449f3867",
            "max": 5,
            "min": 0,
            "orientation": "horizontal",
            "style": "IPY_MODEL_25077a7163d04e8481c7690a8046cb07",
            "value": 5
          }
        },
        "1430c8e36c5d48a1808f69b8be3e0cd0": {
          "model_module": "@jupyter-widgets/controls",
          "model_name": "HTMLModel",
          "model_module_version": "1.5.0",
          "state": {
            "_dom_classes": [],
            "_model_module": "@jupyter-widgets/controls",
            "_model_module_version": "1.5.0",
            "_model_name": "HTMLModel",
            "_view_count": null,
            "_view_module": "@jupyter-widgets/controls",
            "_view_module_version": "1.5.0",
            "_view_name": "HTMLView",
            "description": "",
            "description_tooltip": null,
            "layout": "IPY_MODEL_c68bd3a075c347e1bf9e96ac3df4f4f3",
            "placeholder": "​",
            "style": "IPY_MODEL_730e0100949248a9b7dfb7398df4774c",
            "value": " 5/5 [01:03&lt;00:00, 12.59s/it]"
          }
        },
        "4b46d37e0e004b3992547e81d38c6f45": {
          "model_module": "@jupyter-widgets/base",
          "model_name": "LayoutModel",
          "model_module_version": "1.2.0",
          "state": {
            "_model_module": "@jupyter-widgets/base",
            "_model_module_version": "1.2.0",
            "_model_name": "LayoutModel",
            "_view_count": null,
            "_view_module": "@jupyter-widgets/base",
            "_view_module_version": "1.2.0",
            "_view_name": "LayoutView",
            "align_content": null,
            "align_items": null,
            "align_self": null,
            "border": null,
            "bottom": null,
            "display": null,
            "flex": null,
            "flex_flow": null,
            "grid_area": null,
            "grid_auto_columns": null,
            "grid_auto_flow": null,
            "grid_auto_rows": null,
            "grid_column": null,
            "grid_gap": null,
            "grid_row": null,
            "grid_template_areas": null,
            "grid_template_columns": null,
            "grid_template_rows": null,
            "height": null,
            "justify_content": null,
            "justify_items": null,
            "left": null,
            "margin": null,
            "max_height": null,
            "max_width": null,
            "min_height": null,
            "min_width": null,
            "object_fit": null,
            "object_position": null,
            "order": null,
            "overflow": null,
            "overflow_x": null,
            "overflow_y": null,
            "padding": null,
            "right": null,
            "top": null,
            "visibility": null,
            "width": null
          }
        },
        "4766e8308634481fb580f7723379d00a": {
          "model_module": "@jupyter-widgets/base",
          "model_name": "LayoutModel",
          "model_module_version": "1.2.0",
          "state": {
            "_model_module": "@jupyter-widgets/base",
            "_model_module_version": "1.2.0",
            "_model_name": "LayoutModel",
            "_view_count": null,
            "_view_module": "@jupyter-widgets/base",
            "_view_module_version": "1.2.0",
            "_view_name": "LayoutView",
            "align_content": null,
            "align_items": null,
            "align_self": null,
            "border": null,
            "bottom": null,
            "display": null,
            "flex": null,
            "flex_flow": null,
            "grid_area": null,
            "grid_auto_columns": null,
            "grid_auto_flow": null,
            "grid_auto_rows": null,
            "grid_column": null,
            "grid_gap": null,
            "grid_row": null,
            "grid_template_areas": null,
            "grid_template_columns": null,
            "grid_template_rows": null,
            "height": null,
            "justify_content": null,
            "justify_items": null,
            "left": null,
            "margin": null,
            "max_height": null,
            "max_width": null,
            "min_height": null,
            "min_width": null,
            "object_fit": null,
            "object_position": null,
            "order": null,
            "overflow": null,
            "overflow_x": null,
            "overflow_y": null,
            "padding": null,
            "right": null,
            "top": null,
            "visibility": null,
            "width": null
          }
        },
        "096ab2bdb8f14bbf8498a8ad1a0a021e": {
          "model_module": "@jupyter-widgets/controls",
          "model_name": "DescriptionStyleModel",
          "model_module_version": "1.5.0",
          "state": {
            "_model_module": "@jupyter-widgets/controls",
            "_model_module_version": "1.5.0",
            "_model_name": "DescriptionStyleModel",
            "_view_count": null,
            "_view_module": "@jupyter-widgets/base",
            "_view_module_version": "1.2.0",
            "_view_name": "StyleView",
            "description_width": ""
          }
        },
        "9c9150edaece4426b32867b7449f3867": {
          "model_module": "@jupyter-widgets/base",
          "model_name": "LayoutModel",
          "model_module_version": "1.2.0",
          "state": {
            "_model_module": "@jupyter-widgets/base",
            "_model_module_version": "1.2.0",
            "_model_name": "LayoutModel",
            "_view_count": null,
            "_view_module": "@jupyter-widgets/base",
            "_view_module_version": "1.2.0",
            "_view_name": "LayoutView",
            "align_content": null,
            "align_items": null,
            "align_self": null,
            "border": null,
            "bottom": null,
            "display": null,
            "flex": null,
            "flex_flow": null,
            "grid_area": null,
            "grid_auto_columns": null,
            "grid_auto_flow": null,
            "grid_auto_rows": null,
            "grid_column": null,
            "grid_gap": null,
            "grid_row": null,
            "grid_template_areas": null,
            "grid_template_columns": null,
            "grid_template_rows": null,
            "height": null,
            "justify_content": null,
            "justify_items": null,
            "left": null,
            "margin": null,
            "max_height": null,
            "max_width": null,
            "min_height": null,
            "min_width": null,
            "object_fit": null,
            "object_position": null,
            "order": null,
            "overflow": null,
            "overflow_x": null,
            "overflow_y": null,
            "padding": null,
            "right": null,
            "top": null,
            "visibility": null,
            "width": null
          }
        },
        "25077a7163d04e8481c7690a8046cb07": {
          "model_module": "@jupyter-widgets/controls",
          "model_name": "ProgressStyleModel",
          "model_module_version": "1.5.0",
          "state": {
            "_model_module": "@jupyter-widgets/controls",
            "_model_module_version": "1.5.0",
            "_model_name": "ProgressStyleModel",
            "_view_count": null,
            "_view_module": "@jupyter-widgets/base",
            "_view_module_version": "1.2.0",
            "_view_name": "StyleView",
            "bar_color": null,
            "description_width": ""
          }
        },
        "c68bd3a075c347e1bf9e96ac3df4f4f3": {
          "model_module": "@jupyter-widgets/base",
          "model_name": "LayoutModel",
          "model_module_version": "1.2.0",
          "state": {
            "_model_module": "@jupyter-widgets/base",
            "_model_module_version": "1.2.0",
            "_model_name": "LayoutModel",
            "_view_count": null,
            "_view_module": "@jupyter-widgets/base",
            "_view_module_version": "1.2.0",
            "_view_name": "LayoutView",
            "align_content": null,
            "align_items": null,
            "align_self": null,
            "border": null,
            "bottom": null,
            "display": null,
            "flex": null,
            "flex_flow": null,
            "grid_area": null,
            "grid_auto_columns": null,
            "grid_auto_flow": null,
            "grid_auto_rows": null,
            "grid_column": null,
            "grid_gap": null,
            "grid_row": null,
            "grid_template_areas": null,
            "grid_template_columns": null,
            "grid_template_rows": null,
            "height": null,
            "justify_content": null,
            "justify_items": null,
            "left": null,
            "margin": null,
            "max_height": null,
            "max_width": null,
            "min_height": null,
            "min_width": null,
            "object_fit": null,
            "object_position": null,
            "order": null,
            "overflow": null,
            "overflow_x": null,
            "overflow_y": null,
            "padding": null,
            "right": null,
            "top": null,
            "visibility": null,
            "width": null
          }
        },
        "730e0100949248a9b7dfb7398df4774c": {
          "model_module": "@jupyter-widgets/controls",
          "model_name": "DescriptionStyleModel",
          "model_module_version": "1.5.0",
          "state": {
            "_model_module": "@jupyter-widgets/controls",
            "_model_module_version": "1.5.0",
            "_model_name": "DescriptionStyleModel",
            "_view_count": null,
            "_view_module": "@jupyter-widgets/base",
            "_view_module_version": "1.2.0",
            "_view_name": "StyleView",
            "description_width": ""
          }
        }
      }
    }
  },
  "cells": [
    {
      "cell_type": "markdown",
      "metadata": {
        "id": "view-in-github",
        "colab_type": "text"
      },
      "source": [
        "<a href=\"https://colab.research.google.com/github/abdulwasaeee/Pytorch-Bootcamp/blob/main/pytorch-CV.ipynb\" target=\"_parent\"><img src=\"https://colab.research.google.com/assets/colab-badge.svg\" alt=\"Open In Colab\"/></a>"
      ]
    },
    {
      "cell_type": "code",
      "execution_count": 26,
      "metadata": {
        "id": "unAvkITaF2T4"
      },
      "outputs": [],
      "source": [
        "import torch\n",
        "from torch import nn\n",
        "import pandas as pd\n",
        "import matplotlib.pyplot as plt\n",
        "import torchvision\n",
        "from torchvision import datasets, transforms\n",
        "from torch.utils.data import DataLoader\n",
        "from timeit import default_timer as timer\n",
        "from tqdm.auto import tqdm\n",
        "import seaborn as sns\n"
      ]
    },
    {
      "cell_type": "code",
      "source": [
        "torch.__version__"
      ],
      "metadata": {
        "colab": {
          "base_uri": "https://localhost:8080/",
          "height": 36
        },
        "id": "iYxHQS0wKGyq",
        "outputId": "7a73613a-5e2e-4061-e09b-ab128aca7b00"
      },
      "execution_count": 2,
      "outputs": [
        {
          "output_type": "execute_result",
          "data": {
            "text/plain": [
              "'2.8.0+cu126'"
            ],
            "application/vnd.google.colaboratory.intrinsic+json": {
              "type": "string"
            }
          },
          "metadata": {},
          "execution_count": 2
        }
      ]
    },
    {
      "cell_type": "code",
      "source": [
        "torchvision.__version__"
      ],
      "metadata": {
        "colab": {
          "base_uri": "https://localhost:8080/",
          "height": 36
        },
        "id": "OaWuUf-_KJxE",
        "outputId": "4c05c92c-1d5f-4853-9687-46d7666d9804"
      },
      "execution_count": 3,
      "outputs": [
        {
          "output_type": "execute_result",
          "data": {
            "text/plain": [
              "'0.23.0+cu126'"
            ],
            "application/vnd.google.colaboratory.intrinsic+json": {
              "type": "string"
            }
          },
          "metadata": {},
          "execution_count": 3
        }
      ]
    },
    {
      "cell_type": "code",
      "source": [
        "traindata=datasets.FashionMNIST(\n",
        "    root=\"data\",\n",
        "    train=True,\n",
        "    download=True,\n",
        "    transform=transforms.ToTensor(),\n",
        "    target_transform=None\n",
        ")"
      ],
      "metadata": {
        "id": "Vfz9vOaOKAPK",
        "colab": {
          "base_uri": "https://localhost:8080/"
        },
        "outputId": "a64e1df0-e6a9-471b-e9a6-b0daca1373cd"
      },
      "execution_count": 4,
      "outputs": [
        {
          "output_type": "stream",
          "name": "stderr",
          "text": [
            "100%|██████████| 26.4M/26.4M [00:03<00:00, 8.55MB/s]\n",
            "100%|██████████| 29.5k/29.5k [00:00<00:00, 138kB/s]\n",
            "100%|██████████| 4.42M/4.42M [00:01<00:00, 2.41MB/s]\n",
            "100%|██████████| 5.15k/5.15k [00:00<00:00, 21.4MB/s]\n"
          ]
        }
      ]
    },
    {
      "cell_type": "code",
      "source": [
        "test=datasets.FashionMNIST(\n",
        "    root=\"data\",\n",
        "    train=False,\n",
        "    download=True,\n",
        "    transform=transforms.ToTensor(),\n",
        "    target_transform=None\n",
        ")"
      ],
      "metadata": {
        "id": "i-kKGPY6MTl_"
      },
      "execution_count": 5,
      "outputs": []
    },
    {
      "cell_type": "code",
      "source": [
        "len(traindata), len(test)"
      ],
      "metadata": {
        "colab": {
          "base_uri": "https://localhost:8080/"
        },
        "id": "rvmndEoTM4IP",
        "outputId": "0a2e902e-9cd2-492a-ed2e-3e301d84d81f"
      },
      "execution_count": 6,
      "outputs": [
        {
          "output_type": "execute_result",
          "data": {
            "text/plain": [
              "(60000, 10000)"
            ]
          },
          "metadata": {},
          "execution_count": 6
        }
      ]
    },
    {
      "cell_type": "code",
      "source": [
        "classnames=traindata.classes\n",
        "classnames"
      ],
      "metadata": {
        "colab": {
          "base_uri": "https://localhost:8080/"
        },
        "id": "VsO9rA1cNyDM",
        "outputId": "aae19c07-effc-45f1-b14c-d96f6a69b5ee"
      },
      "execution_count": 7,
      "outputs": [
        {
          "output_type": "execute_result",
          "data": {
            "text/plain": [
              "['T-shirt/top',\n",
              " 'Trouser',\n",
              " 'Pullover',\n",
              " 'Dress',\n",
              " 'Coat',\n",
              " 'Sandal',\n",
              " 'Shirt',\n",
              " 'Sneaker',\n",
              " 'Bag',\n",
              " 'Ankle boot']"
            ]
          },
          "metadata": {},
          "execution_count": 7
        }
      ]
    },
    {
      "cell_type": "code",
      "source": [
        "classtoidx=traindata.class_to_idx\n",
        "classtoidx"
      ],
      "metadata": {
        "colab": {
          "base_uri": "https://localhost:8080/"
        },
        "id": "v1UP1BT2OF99",
        "outputId": "3eeba6e8-7328-42a3-d7d3-d7992e35f6e9"
      },
      "execution_count": 8,
      "outputs": [
        {
          "output_type": "execute_result",
          "data": {
            "text/plain": [
              "{'T-shirt/top': 0,\n",
              " 'Trouser': 1,\n",
              " 'Pullover': 2,\n",
              " 'Dress': 3,\n",
              " 'Coat': 4,\n",
              " 'Sandal': 5,\n",
              " 'Shirt': 6,\n",
              " 'Sneaker': 7,\n",
              " 'Bag': 8,\n",
              " 'Ankle boot': 9}"
            ]
          },
          "metadata": {},
          "execution_count": 8
        }
      ]
    },
    {
      "cell_type": "code",
      "source": [
        "image,label= traindata[0]\n",
        "label"
      ],
      "metadata": {
        "colab": {
          "base_uri": "https://localhost:8080/"
        },
        "id": "suyEPiwUO7gS",
        "outputId": "11056189-44ec-4e7f-effe-cac3d640718f"
      },
      "execution_count": 9,
      "outputs": [
        {
          "output_type": "execute_result",
          "data": {
            "text/plain": [
              "9"
            ]
          },
          "metadata": {},
          "execution_count": 9
        }
      ]
    },
    {
      "cell_type": "code",
      "source": [
        "image.shape"
      ],
      "metadata": {
        "colab": {
          "base_uri": "https://localhost:8080/"
        },
        "id": "MMwfuiRTPSAm",
        "outputId": "c0a17871-440b-4b1a-c4bb-e2695a373cfd"
      },
      "execution_count": 10,
      "outputs": [
        {
          "output_type": "execute_result",
          "data": {
            "text/plain": [
              "torch.Size([1, 28, 28])"
            ]
          },
          "metadata": {},
          "execution_count": 10
        }
      ]
    },
    {
      "cell_type": "code",
      "source": [
        "classnames[label]"
      ],
      "metadata": {
        "colab": {
          "base_uri": "https://localhost:8080/",
          "height": 36
        },
        "id": "QbW1D76IP2BK",
        "outputId": "ce19ce13-8751-4b32-93cb-5791cc0fc4c8"
      },
      "execution_count": 11,
      "outputs": [
        {
          "output_type": "execute_result",
          "data": {
            "text/plain": [
              "'Ankle boot'"
            ],
            "application/vnd.google.colaboratory.intrinsic+json": {
              "type": "string"
            }
          },
          "metadata": {},
          "execution_count": 11
        }
      ]
    },
    {
      "cell_type": "code",
      "source": [
        "plt.imshow(image.squeeze(), cmap=\"gray\")\n",
        "plt.title(classnames[label])\n",
        "plt.axis(False)"
      ],
      "metadata": {
        "colab": {
          "base_uri": "https://localhost:8080/",
          "height": 445
        },
        "id": "ugBDfU5fP8yB",
        "outputId": "1359b9fa-2028-4aee-9f1d-d618de9ec31c"
      },
      "execution_count": 12,
      "outputs": [
        {
          "output_type": "execute_result",
          "data": {
            "text/plain": [
              "(np.float64(-0.5), np.float64(27.5), np.float64(27.5), np.float64(-0.5))"
            ]
          },
          "metadata": {},
          "execution_count": 12
        },
        {
          "output_type": "display_data",
          "data": {
            "text/plain": [
              "<Figure size 640x480 with 1 Axes>"
            ],
            "image/png": "[encoded data removed]"
          },
          "metadata": {}
        }
      ]
    },
    {
      "cell_type": "code",
      "source": [
        "batchsize=32\n",
        "dl=DataLoader(dataset=traindata, batch_size=batchsize, shuffle=False)\n",
        "testdl=DataLoader(dataset=test, batch_size=batchsize, shuffle=False)"
      ],
      "metadata": {
        "id": "AKY8S3HBSSru"
      },
      "execution_count": 13,
      "outputs": []
    },
    {
      "cell_type": "code",
      "source": [
        "dl, testdl"
      ],
      "metadata": {
        "id": "s-YPIPfqVblz",
        "outputId": "c821d60c-93b4-43d2-f327-19438c9bcc7d",
        "colab": {
          "base_uri": "https://localhost:8080/"
        }
      },
      "execution_count": 14,
      "outputs": [
        {
          "output_type": "execute_result",
          "data": {
            "text/plain": [
              "(<torch.utils.data.dataloader.DataLoader at 0x7aa934924680>,\n",
              " <torch.utils.data.dataloader.DataLoader at 0x7aa9349241a0>)"
            ]
          },
          "metadata": {},
          "execution_count": 14
        }
      ]
    },
    {
      "cell_type": "code",
      "source": [
        "class CNN(nn.Module):\n",
        "  def __init__(self):\n",
        "    super().__init__()\n",
        "    self.cnlayers=nn.Sequential(\n",
        "        nn.Conv2d(in_channels=1,out_channels=32,kernel_size=3,stride=1,padding=1),\n",
        "        nn.MaxPool2d(kernel_size=2,stride=2),\n",
        "        nn.ReLU(),\n",
        "        nn.Conv2d(in_channels=32,out_channels=64,kernel_size=3,stride=1,padding=1),\n",
        "        nn.MaxPool2d(kernel_size=2,stride=2),\n",
        "    )\n",
        "    self.linearlayers=nn.Sequential(\n",
        "        nn.Flatten(),\n",
        "        nn.Linear(in_features=64*7*7,out_features=128),\n",
        "        nn.ReLU(),\n",
        "        nn.Linear(128,10)\n",
        "    )\n",
        "\n",
        "  def forward(self,x):\n",
        "    x=self.cnlayers(x)\n",
        "    x=self.linearlayers(x)\n",
        "    return x\n"
      ],
      "metadata": {
        "id": "u3UNDJ_5VdUA"
      },
      "execution_count": 15,
      "outputs": []
    },
    {
      "cell_type": "code",
      "source": [
        "model=CNN()"
      ],
      "metadata": {
        "id": "FJUl70KxpiDu"
      },
      "execution_count": 16,
      "outputs": []
    },
    {
      "cell_type": "code",
      "source": [
        "device = \"cuda\" if torch.cuda.is_available() else \"cpu\"\n",
        "model.to(device)"
      ],
      "metadata": {
        "colab": {
          "base_uri": "https://localhost:8080/"
        },
        "id": "uJHhrphlFOyW",
        "outputId": "fa472ba6-7945-41c9-889c-72286e314c5d"
      },
      "execution_count": 17,
      "outputs": [
        {
          "output_type": "execute_result",
          "data": {
            "text/plain": [
              "CNN(\n",
              "  (cnlayers): Sequential(\n",
              "    (0): Conv2d(1, 32, kernel_size=(3, 3), stride=(1, 1), padding=(1, 1))\n",
              "    (1): MaxPool2d(kernel_size=2, stride=2, padding=0, dilation=1, ceil_mode=False)\n",
              "    (2): ReLU()\n",
              "    (3): Conv2d(32, 64, kernel_size=(3, 3), stride=(1, 1), padding=(1, 1))\n",
              "    (4): MaxPool2d(kernel_size=2, stride=2, padding=0, dilation=1, ceil_mode=False)\n",
              "  )\n",
              "  (linearlayers): Sequential(\n",
              "    (0): Flatten(start_dim=1, end_dim=-1)\n",
              "    (1): Linear(in_features=3136, out_features=128, bias=True)\n",
              "    (2): ReLU()\n",
              "    (3): Linear(in_features=128, out_features=10, bias=True)\n",
              "  )\n",
              ")"
            ]
          },
          "metadata": {},
          "execution_count": 17
        }
      ]
    },
    {
      "cell_type": "code",
      "source": [
        "opt= torch.optim.Adam(params=model.parameters(),lr=0.01)\n",
        "lossfn=nn.CrossEntropyLoss()"
      ],
      "metadata": {
        "id": "WQZJXLRqmgeQ"
      },
      "execution_count": 18,
      "outputs": []
    },
    {
      "cell_type": "code",
      "source": [
        "dl.dataset"
      ],
      "metadata": {
        "colab": {
          "base_uri": "https://localhost:8080/"
        },
        "id": "AYRIG2spsjc-",
        "outputId": "98b0df27-c4f5-4df6-f83f-baa5ce780af0"
      },
      "execution_count": 19,
      "outputs": [
        {
          "output_type": "execute_result",
          "data": {
            "text/plain": [
              "Dataset FashionMNIST\n",
              "    Number of datapoints: 60000\n",
              "    Root location: data\n",
              "    Split: Train\n",
              "    StandardTransform\n",
              "Transform: ToTensor()"
            ]
          },
          "metadata": {},
          "execution_count": 19
        }
      ]
    },
    {
      "cell_type": "code",
      "source": [
        "len(dl), len(dl.dataset)"
      ],
      "metadata": {
        "colab": {
          "base_uri": "https://localhost:8080/"
        },
        "id": "Nn9-Ze_AssU5",
        "outputId": "5972039c-0667-4ede-89b1-1560d4bf0ad5"
      },
      "execution_count": 20,
      "outputs": [
        {
          "output_type": "execute_result",
          "data": {
            "text/plain": [
              "(1875, 60000)"
            ]
          },
          "metadata": {},
          "execution_count": 20
        }
      ]
    },
    {
      "cell_type": "code",
      "source": [
        "def training(model, dataloader, lossfn, optimizer, device=\"cpu\"):\n",
        "  model.train()\n",
        "  totalloss=0\n",
        "  for x, y in dataloader:\n",
        "        x, y = x.to(device), y.to(device)\n",
        "        optimizer.zero_grad()\n",
        "        ypred = model(x)\n",
        "        loss = lossfn(ypred, y)\n",
        "        loss.backward()\n",
        "        optimizer.step()\n",
        "        totalloss += loss.item()\n",
        "  return totalloss / len(dataloader)"
      ],
      "metadata": {
        "id": "jD0CmqHW-ae1"
      },
      "execution_count": 21,
      "outputs": []
    },
    {
      "cell_type": "code",
      "source": [
        "def testing(model, dataloader, lossfn, device=\"cpu\"):\n",
        "  model.eval()\n",
        "  totalloss=0\n",
        "  correct=0\n",
        "\n",
        "  with torch.inference_mode():\n",
        "        for x, y in dataloader:\n",
        "            x, y = x.to(device), y.to(device)\n",
        "            ypred = model(x)\n",
        "            loss = lossfn(ypred, y)\n",
        "            totalloss += loss.item()\n",
        "            preds = ypred.argmax(dim=1)\n",
        "            correct += (preds == y).sum().item()\n",
        "  return totalloss / len(dataloader), correct / len(testdl.dataset)"
      ],
      "metadata": {
        "id": "3uPbdKST_ew9"
      },
      "execution_count": 22,
      "outputs": []
    },
    {
      "cell_type": "code",
      "source": [
        "torch.manual_seed(42)\n",
        "start = timer()\n",
        "\n",
        "epochs = 5\n",
        "\n",
        "for i in tqdm(range(epochs)):\n",
        "    trainloss= training(model, dl, lossfn, opt, device=device)\n",
        "    testloss, testacc= testing(model, testdl, lossfn, device=device)\n",
        "end = timer()\n",
        "totaltime = end - start\n",
        "print(f\"Total training time: {totaltime:.3f} seconds\")"
      ],
      "metadata": {
        "colab": {
          "base_uri": "https://localhost:8080/",
          "height": 66,
          "referenced_widgets": [
            "4276e853039147c69b548fa5ad1e26ac",
            "8c5c31e33a9a4e1ab54e9bfab4690fe9",
            "7986343236f34f0ab529b72e89542094",
            "1430c8e36c5d48a1808f69b8be3e0cd0",
            "4b46d37e0e004b3992547e81d38c6f45",
            "4766e8308634481fb580f7723379d00a",
            "096ab2bdb8f14bbf8498a8ad1a0a021e",
            "9c9150edaece4426b32867b7449f3867",
            "25077a7163d04e8481c7690a8046cb07",
            "c68bd3a075c347e1bf9e96ac3df4f4f3",
            "730e0100949248a9b7dfb7398df4774c"
          ]
        },
        "id": "DmnOmGB9qELl",
        "outputId": "d911a561-6da3-4be4-ac36-4cb91621a76f"
      },
      "execution_count": 23,
      "outputs": [
        {
          "output_type": "display_data",
          "data": {
            "text/plain": [
              "  0%|          | 0/5 [00:00<?, ?it/s]"
            ],
            "application/vnd.jupyter.widget-view+json": {
              "version_major": 2,
              "version_minor": 0,
              "model_id": "4276e853039147c69b548fa5ad1e26ac"
            }
          },
          "metadata": {}
        },
        {
          "output_type": "stream",
          "name": "stdout",
          "text": [
            "Total training time: 63.710 seconds\n"
          ]
        }
      ]
    },
    {
      "cell_type": "code",
      "source": [
        "print(trainloss,testloss,testacc)"
      ],
      "metadata": {
        "colab": {
          "base_uri": "https://localhost:8080/"
        },
        "id": "qvwx7sWl2lyt",
        "outputId": "67815d97-9132-4422-bc57-30e79362191e"
      },
      "execution_count": 24,
      "outputs": [
        {
          "output_type": "stream",
          "name": "stdout",
          "text": [
            "0.33409571856061615 0.43618182480906525 0.8602\n"
          ]
        }
      ]
    },
    {
      "cell_type": "code",
      "source": [
        "pip install torchmetrics\n"
      ],
      "metadata": {
        "colab": {
          "base_uri": "https://localhost:8080/"
        },
        "id": "iMgLp6rB_wCr",
        "outputId": "2d4aadd5-fabc-4a8e-bc42-77d9f9319f4a"
      },
      "execution_count": 25,
      "outputs": [
        {
          "output_type": "stream",
          "name": "stdout",
          "text": [
            "Collecting torchmetrics\n",
            "  Downloading torchmetrics-1.8.2-py3-none-any.whl.metadata (22 kB)\n",
            "Requirement already satisfied: numpy>1.20.0 in /usr/local/lib/python3.12/dist-packages (from torchmetrics) (2.0.2)\n",
            "Requirement already satisfied: packaging>17.1 in /usr/local/lib/python3.12/dist-packages (from torchmetrics) (25.0)\n",
            "Requirement already satisfied: torch>=2.0.0 in /usr/local/lib/python3.12/dist-packages (from torchmetrics) (2.8.0+cu126)\n",
            "Collecting lightning-utilities>=0.8.0 (from torchmetrics)\n",
            "  Downloading lightning_utilities-0.15.2-py3-none-any.whl.metadata (5.7 kB)\n",
            "Requirement already satisfied: setuptools in /usr/local/lib/python3.12/dist-packages (from lightning-utilities>=0.8.0->torchmetrics) (75.2.0)\n",
            "Requirement already satisfied: typing_extensions in /usr/local/lib/python3.12/dist-packages (from lightning-utilities>=0.8.0->torchmetrics) (4.15.0)\n",
            "Requirement already satisfied: filelock in /usr/local/lib/python3.12/dist-packages (from torch>=2.0.0->torchmetrics) (3.19.1)\n",
            "Requirement already satisfied: sympy>=1.13.3 in /usr/local/lib/python3.12/dist-packages (from torch>=2.0.0->torchmetrics) (1.13.3)\n",
            "Requirement already satisfied: networkx in /usr/local/lib/python3.12/dist-packages (from torch>=2.0.0->torchmetrics) (3.5)\n",
            "Requirement already satisfied: jinja2 in /usr/local/lib/python3.12/dist-packages (from torch>=2.0.0->torchmetrics) (3.1.6)\n",
            "Requirement already satisfied: fsspec in /usr/local/lib/python3.12/dist-packages (from torch>=2.0.0->torchmetrics) (2025.3.0)\n",
            "Requirement already satisfied: nvidia-cuda-nvrtc-cu12==12.6.77 in /usr/local/lib/python3.12/dist-packages (from torch>=2.0.0->torchmetrics) (12.6.77)\n",
            "Requirement already satisfied: nvidia-cuda-runtime-cu12==12.6.77 in /usr/local/lib/python3.12/dist-packages (from torch>=2.0.0->torchmetrics) (12.6.77)\n",
            "Requirement already satisfied: nvidia-cuda-cupti-cu12==12.6.80 in /usr/local/lib/python3.12/dist-packages (from torch>=2.0.0->torchmetrics) (12.6.80)\n",
            "Requirement already satisfied: nvidia-cudnn-cu12==9.10.2.21 in /usr/local/lib/python3.12/dist-packages (from torch>=2.0.0->torchmetrics) (9.10.2.21)\n",
            "Requirement already satisfied: nvidia-cublas-cu12==12.6.4.1 in /usr/local/lib/python3.12/dist-packages (from torch>=2.0.0->torchmetrics) (12.6.4.1)\n",
            "Requirement already satisfied: nvidia-cufft-cu12==11.3.0.4 in /usr/local/lib/python3.12/dist-packages (from torch>=2.0.0->torchmetrics) (11.3.0.4)\n",
            "Requirement already satisfied: nvidia-curand-cu12==10.3.7.77 in /usr/local/lib/python3.12/dist-packages (from torch>=2.0.0->torchmetrics) (10.3.7.77)\n",
            "Requirement already satisfied: nvidia-cusolver-cu12==11.7.1.2 in /usr/local/lib/python3.12/dist-packages (from torch>=2.0.0->torchmetrics) (11.7.1.2)\n",
            "Requirement already satisfied: nvidia-cusparse-cu12==12.5.4.2 in /usr/local/lib/python3.12/dist-packages (from torch>=2.0.0->torchmetrics) (12.5.4.2)\n",
            "Requirement already satisfied: nvidia-cusparselt-cu12==0.7.1 in /usr/local/lib/python3.12/dist-packages (from torch>=2.0.0->torchmetrics) (0.7.1)\n",
            "Requirement already satisfied: nvidia-nccl-cu12==2.27.3 in /usr/local/lib/python3.12/dist-packages (from torch>=2.0.0->torchmetrics) (2.27.3)\n",
            "Requirement already satisfied: nvidia-nvtx-cu12==12.6.77 in /usr/local/lib/python3.12/dist-packages (from torch>=2.0.0->torchmetrics) (12.6.77)\n",
            "Requirement already satisfied: nvidia-nvjitlink-cu12==12.6.85 in /usr/local/lib/python3.12/dist-packages (from torch>=2.0.0->torchmetrics) (12.6.85)\n",
            "Requirement already satisfied: nvidia-cufile-cu12==1.11.1.6 in /usr/local/lib/python3.12/dist-packages (from torch>=2.0.0->torchmetrics) (1.11.1.6)\n",
            "Requirement already satisfied: triton==3.4.0 in /usr/local/lib/python3.12/dist-packages (from torch>=2.0.0->torchmetrics) (3.4.0)\n",
            "Requirement already satisfied: mpmath<1.4,>=1.1.0 in /usr/local/lib/python3.12/dist-packages (from sympy>=1.13.3->torch>=2.0.0->torchmetrics) (1.3.0)\n",
            "Requirement already satisfied: MarkupSafe>=2.0 in /usr/local/lib/python3.12/dist-packages (from jinja2->torch>=2.0.0->torchmetrics) (3.0.2)\n",
            "Downloading torchmetrics-1.8.2-py3-none-any.whl (983 kB)\n",
            "\u001b[2K   \u001b[90m━━━━━━━━━━━━━━━━━━━━━━━━━━━━━━━━━━━━━━━━\u001b[0m \u001b[32m983.2/983.2 kB\u001b[0m \u001b[31m55.1 MB/s\u001b[0m eta \u001b[36m0:00:00\u001b[0m\n",
            "\u001b[?25hDownloading lightning_utilities-0.15.2-py3-none-any.whl (29 kB)\n",
            "Installing collected packages: lightning-utilities, torchmetrics\n",
            "Successfully installed lightning-utilities-0.15.2 torchmetrics-1.8.2\n"
          ]
        }
      ]
    },
    {
      "cell_type": "code",
      "source": [
        "from torchmetrics.classification import ConfusionMatrix"
      ],
      "metadata": {
        "id": "zgN7BPGpAFYK"
      },
      "execution_count": 27,
      "outputs": []
    },
    {
      "cell_type": "code",
      "source": [
        "pl=[]\n",
        "ll=[]"
      ],
      "metadata": {
        "id": "kLy5pueUEUFG"
      },
      "execution_count": 29,
      "outputs": []
    },
    {
      "cell_type": "code",
      "source": [
        "model.eval()\n",
        "with torch.inference_mode():\n",
        "        for x, y in testdl:\n",
        "            x, y = x.to(device), y.to(device)\n",
        "            ypred = model(x)\n",
        "            preds = ypred.argmax(dim=1)\n",
        "            pl.append(preds)\n",
        "            ll.append(y)\n",
        "pl=torch.cat(pl)\n",
        "ll=torch.cat(ll)\n"
      ],
      "metadata": {
        "id": "nFjYvcvsBHsM"
      },
      "execution_count": 31,
      "outputs": []
    },
    {
      "cell_type": "code",
      "source": [
        "cm=ConfusionMatrix(task='multiclass', num_classes=10).to(device)"
      ],
      "metadata": {
        "id": "WiASzgbbH-Fk"
      },
      "execution_count": 33,
      "outputs": []
    },
    {
      "cell_type": "code",
      "source": [
        "cm=cm.to(device)"
      ],
      "metadata": {
        "id": "bhr87ASaOn7H"
      },
      "execution_count": 46,
      "outputs": []
    },
    {
      "cell_type": "code",
      "source": [
        "cm(pl.to(device), ll.to(device))"
      ],
      "metadata": {
        "colab": {
          "base_uri": "https://localhost:8080/"
        },
        "id": "GWgi7TNtIlFd",
        "outputId": "3cbd99fd-bc8a-401f-b7dc-1bbb2d7f10e6"
      },
      "execution_count": 47,
      "outputs": [
        {
          "output_type": "execute_result",
          "data": {
            "text/plain": [
              "tensor([[856,   0,  69,  20,   4,   0,  48,   0,   3,   0],\n",
              "        [  2, 952,   6,  32,   5,   0,   2,   0,   1,   0],\n",
              "        [  5,   1, 864,  12,  71,   0,  47,   0,   0,   0],\n",
              "        [ 31,   1,  34, 901,  17,   0,  15,   0,   1,   0],\n",
              "        [  1,   0, 141,  46, 760,   0,  52,   0,   0,   0],\n",
              "        [  1,   0,   0,   0,   0, 978,   1,  17,   1,   2],\n",
              "        [205,   0, 133,  29,  73,   0, 557,   0,   3,   0],\n",
              "        [  0,   0,   2,   0,   0,  10,   0, 981,   1,   6],\n",
              "        [  0,   0,  31,   3,   2,   4,  16,   1, 943,   0],\n",
              "        [  1,   0,   7,   0,   0,  96,   0,  86,   0, 810]], device='cuda:0')"
            ]
          },
          "metadata": {},
          "execution_count": 47
        }
      ]
    },
    {
      "cell_type": "code",
      "source": [],
      "metadata": {
        "id": "PNjTBUCdOnKP"
      },
      "execution_count": null,
      "outputs": []
    },
    {
      "cell_type": "code",
      "source": [
        "sns.heatmap(cm(pl.to(device), ll.to(device)).cpu().numpy())"
      ],
      "metadata": {
        "colab": {
          "base_uri": "https://localhost:8080/",
          "height": 447
        },
        "id": "oXQORlrVIpsW",
        "outputId": "906b06bf-a483-4582-b134-5877e458290e"
      },
      "execution_count": 48,
      "outputs": [
        {
          "output_type": "execute_result",
          "data": {
            "text/plain": [
              "<Axes: >"
            ]
          },
          "metadata": {},
          "execution_count": 48
        },
        {
          "output_type": "display_data",
          "data": {
            "text/plain": [
              "<Figure size 640x480 with 2 Axes>"
            ],
            "image/png": "[encoded data removed]"
          },
          "metadata": {}
        }
      ]
    },
    {
      "cell_type": "code",
      "source": [
        "model.state_dict()"
      ],
      "metadata": {
        "colab": {
          "base_uri": "https://localhost:8080/"
        },
        "id": "QhdI5ck3SYdF",
        "outputId": "30bb716d-eb19-4b91-d9cf-921e22c97788"
      },
      "execution_count": 50,
      "outputs": [
        {
          "output_type": "execute_result",
          "data": {
            "text/plain": [
              "OrderedDict([('cnlayers.0.weight',\n",
              "              tensor([[[[-0.4776, -0.8282,  0.0320],\n",
              "                        [-0.3624, -1.0922, -0.4756],\n",
              "                        [-0.2704,  0.0851,  0.1339]]],\n",
              "              \n",
              "              \n",
              "                      [[[-0.1603, -0.1190, -0.1150],\n",
              "                        [-0.1051, -0.1748, -0.0756],\n",
              "                        [-0.1961, -0.1804, -0.0580]]],\n",
              "              \n",
              "              \n",
              "                      [[[-0.4499, -1.7785, -0.0314],\n",
              "                        [-0.3961, -3.9545, -2.1948],\n",
              "                        [ 0.5377, -0.3277, -0.2135]]],\n",
              "              \n",
              "              \n",
              "                      [[[ 0.0311, -0.0185,  0.0280],\n",
              "                        [-0.2494, -0.2880,  0.0621],\n",
              "                        [-0.0095, -0.0147,  0.1393]]],\n",
              "              \n",
              "              \n",
              "                      [[[-0.7062, -0.3969, -0.4382],\n",
              "                        [ 0.1525, -0.5616, -0.0705],\n",
              "                        [ 0.0312, -0.6592, -0.5116]]],\n",
              "              \n",
              "              \n",
              "                      [[[-0.1726, -0.3237, -0.2508],\n",
              "                        [ 0.0424,  0.0761, -0.1429],\n",
              "                        [-0.2719, -0.0413, -0.2485]]],\n",
              "              \n",
              "              \n",
              "                      [[[ 0.2627,  0.2665, -0.0636],\n",
              "                        [ 0.5490, -0.6034, -1.3762],\n",
              "                        [-0.6086, -1.5173, -2.0160]]],\n",
              "              \n",
              "              \n",
              "                      [[[-0.2036,  0.0356, -0.1463],\n",
              "                        [-0.2056,  0.0873, -0.0119],\n",
              "                        [-0.2961, -0.2031, -0.1761]]],\n",
              "              \n",
              "              \n",
              "                      [[[ 0.2014, -0.5445, -0.6856],\n",
              "                        [-0.0233, -0.5696, -0.1956],\n",
              "                        [-0.4076, -0.9071,  0.1037]]],\n",
              "              \n",
              "              \n",
              "                      [[[ 0.0482, -1.2437, -1.4887],\n",
              "                        [ 0.2931, -0.6851, -0.6686],\n",
              "                        [ 0.1086,  0.5025,  0.0062]]],\n",
              "              \n",
              "              \n",
              "                      [[[-0.5117,  0.1164, -0.1134],\n",
              "                        [-0.3324, -0.1687,  0.0599],\n",
              "                        [-0.0866,  0.0809, -0.1166]]],\n",
              "              \n",
              "              \n",
              "                      [[[-0.1739, -0.4045, -0.1209],\n",
              "                        [-0.3836, -0.1492, -0.3540],\n",
              "                        [ 0.0182, -0.4400, -0.2201]]],\n",
              "              \n",
              "              \n",
              "                      [[[-0.6510, -0.2262,  0.8903],\n",
              "                        [-2.6979, -0.1637, -1.3373],\n",
              "                        [-0.9552, -2.3600, -0.5168]]],\n",
              "              \n",
              "              \n",
              "                      [[[ 0.0873, -0.3029,  0.0248],\n",
              "                        [-0.4636, -0.0054,  0.0554],\n",
              "                        [-0.3371,  0.0051, -0.4871]]],\n",
              "              \n",
              "              \n",
              "                      [[[-0.6870, -0.4939,  0.7592],\n",
              "                        [ 0.1539, -0.6916, -0.9548],\n",
              "                        [-0.1201,  0.4613, -0.4494]]],\n",
              "              \n",
              "              \n",
              "                      [[[ 0.1030,  0.1074, -0.0611],\n",
              "                        [-0.3532, -0.2082, -0.1411],\n",
              "                        [-0.0540, -0.2862,  0.0552]]],\n",
              "              \n",
              "              \n",
              "                      [[[-0.1492,  0.1237, -0.4424],\n",
              "                        [-1.0505,  0.0902, -1.2309],\n",
              "                        [-0.1214, -1.0719, -0.5409]]],\n",
              "              \n",
              "              \n",
              "                      [[[ 0.1592, -0.2986, -0.1353],\n",
              "                        [-0.2635,  0.1493,  0.1350],\n",
              "                        [-0.3109, -0.2025, -0.0210]]],\n",
              "              \n",
              "              \n",
              "                      [[[-0.4590,  0.0136,  0.1274],\n",
              "                        [-0.3328, -0.2118, -0.3512],\n",
              "                        [-0.1432, -0.2641, -0.4291]]],\n",
              "              \n",
              "              \n",
              "                      [[[-0.2525, -0.1366, -0.3634],\n",
              "                        [ 0.0690, -0.3028, -0.3391],\n",
              "                        [-0.0144,  0.0559, -0.2102]]],\n",
              "              \n",
              "              \n",
              "                      [[[-0.2553,  0.0945,  0.1362],\n",
              "                        [-0.4666, -0.0121, -0.1192],\n",
              "                        [-0.2927, -0.3952, -0.2563]]],\n",
              "              \n",
              "              \n",
              "                      [[[-0.6992, -0.2444,  0.3307],\n",
              "                        [-0.6723, -0.4303,  0.3858],\n",
              "                        [ 0.1427,  0.0279, -0.0531]]],\n",
              "              \n",
              "              \n",
              "                      [[[-1.0504, -0.8947, -1.1799],\n",
              "                        [-0.1388,  0.2808,  0.1489],\n",
              "                        [-0.3091, -0.3360, -0.1256]]],\n",
              "              \n",
              "              \n",
              "                      [[[-0.0621,  0.2225, -0.0988],\n",
              "                        [ 0.2769,  0.3640, -0.3848],\n",
              "                        [ 0.1213, -0.0401,  0.0232]]],\n",
              "              \n",
              "              \n",
              "                      [[[-0.0946,  0.3141, -0.9381],\n",
              "                        [-0.2890, -1.5485,  0.5268],\n",
              "                        [-1.1627, -1.3062,  0.2615]]],\n",
              "              \n",
              "              \n",
              "                      [[[ 0.7901, -0.9462, -0.4158],\n",
              "                        [-1.3810, -1.9162, -1.2128],\n",
              "                        [-1.2345, -0.6401,  0.6134]]],\n",
              "              \n",
              "              \n",
              "                      [[[ 0.1708, -0.1441, -0.2233],\n",
              "                        [ 0.1770,  0.0094, -0.2932],\n",
              "                        [-0.3030,  0.0759, -0.0858]]],\n",
              "              \n",
              "              \n",
              "                      [[[-0.3790, -0.1337, -0.4037],\n",
              "                        [-0.1648, -0.0769, -0.1651],\n",
              "                        [-0.0313, -0.3338, -0.0931]]],\n",
              "              \n",
              "              \n",
              "                      [[[-0.1296,  0.1514, -0.1578],\n",
              "                        [-0.1714, -0.2819, -0.3086],\n",
              "                        [ 0.1741,  0.1193,  0.0198]]],\n",
              "              \n",
              "              \n",
              "                      [[[-0.1691, -0.1627, -0.2905],\n",
              "                        [ 0.1557, -0.0429,  0.0236],\n",
              "                        [ 0.2167, -0.1796,  0.0306]]],\n",
              "              \n",
              "              \n",
              "                      [[[-0.5462,  0.0468, -0.5744],\n",
              "                        [-0.0741, -0.4049, -0.2962],\n",
              "                        [ 0.1719, -0.1780, -0.1162]]],\n",
              "              \n",
              "              \n",
              "                      [[[-1.2630, -0.0490,  0.0681],\n",
              "                        [-0.2907,  0.6193, -0.3594],\n",
              "                        [-0.3042, -1.1021, -1.6662]]]], device='cuda:0')),\n",
              "             ('cnlayers.0.bias',\n",
              "              tensor([-0.2206, -0.0172, -0.0427, -0.3095, -0.2137, -0.1197, -0.0445, -0.1635,\n",
              "                      -0.2975, -0.0732, -0.1297, -0.5794, -0.0564, -0.1754, -0.9530, -0.3337,\n",
              "                       0.1198, -0.3793, -0.1584, -0.2508, -0.4234, -0.0479, -0.3562, -0.0269,\n",
              "                      -0.1568,  0.0711, -0.3959, -0.0197, -0.3832, -0.4034, -0.1797, -0.3967],\n",
              "                     device='cuda:0')),\n",
              "             ('cnlayers.3.weight',\n",
              "              tensor([[[[ 1.6161e-01,  4.6238e-01, -5.4039e-02],\n",
              "                        [-7.0814e-02, -3.0231e-01,  1.4057e-01],\n",
              "                        [-1.3876e-01,  9.4719e-02, -5.4666e-02]],\n",
              "              \n",
              "                       [[ 3.0612e-02,  1.2586e-02,  6.3101e-03],\n",
              "                        [-4.2356e-02, -1.2795e-02,  5.8515e-02],\n",
              "                        [-5.2803e-02, -2.7877e-02,  6.9834e-02]],\n",
              "              \n",
              "                       [[-9.3887e-02, -4.0658e-01, -1.1991e-01],\n",
              "                        [-4.1247e-01, -4.0123e-01, -5.9856e-02],\n",
              "                        [ 4.2384e-01,  1.8464e-01,  2.7804e-01]],\n",
              "              \n",
              "                       ...,\n",
              "              \n",
              "                       [[ 7.8469e-02,  4.5984e-02,  4.6150e-02],\n",
              "                        [ 2.0043e-02,  8.4376e-02,  1.7722e-02],\n",
              "                        [ 7.4350e-02, -2.1410e-02,  3.5027e-02]],\n",
              "              \n",
              "                       [[ 5.3951e-02, -2.3744e-02,  1.7321e-01],\n",
              "                        [ 4.8129e-02, -4.8912e-02,  7.5670e-02],\n",
              "                        [ 2.1636e-01,  9.2907e-02, -4.2906e-02]],\n",
              "              \n",
              "                       [[-1.0858e+00, -1.4725e-01, -9.3600e-01],\n",
              "                        [ 2.8497e-01,  7.2961e-01,  1.4484e-01],\n",
              "                        [-2.7160e-01, -8.8864e-01, -5.7487e-01]]],\n",
              "              \n",
              "              \n",
              "                      [[[-2.2661e-01,  1.0739e-02,  9.1431e-02],\n",
              "                        [ 2.3947e-01,  5.4724e-01, -3.7174e-01],\n",
              "                        [ 9.3483e-02, -3.6393e-01, -4.8344e-01]],\n",
              "              \n",
              "                       [[ 9.5498e-02,  1.3057e-01,  5.7118e-02],\n",
              "                        [ 8.1118e-02, -1.2946e-02, -5.6832e-02],\n",
              "                        [ 7.0299e-02,  5.5838e-02, -2.6391e-02]],\n",
              "              \n",
              "                       [[ 7.7734e-01, -6.8020e-02, -7.3277e-01],\n",
              "                        [-4.6197e-01, -1.7138e+00, -6.0808e-01],\n",
              "                        [-4.3376e-02, -2.8061e-01, -2.0381e-02]],\n",
              "              \n",
              "                       ...,\n",
              "              \n",
              "                       [[-3.1227e-02, -1.0823e-01, -2.8346e-02],\n",
              "                        [ 3.2232e-02,  6.4394e-02,  1.5050e-02],\n",
              "                        [-2.5314e-02, -5.1631e-04, -7.5682e-03]],\n",
              "              \n",
              "                       [[-1.7916e-01, -2.5073e-01,  1.6132e-01],\n",
              "                        [ 6.0213e-02, -1.1685e-01,  2.1185e-01],\n",
              "                        [ 8.4729e-02, -1.1655e-02,  1.2585e-01]],\n",
              "              \n",
              "                       [[-7.2004e-01, -2.4737e+00, -1.5787e-01],\n",
              "                        [-5.1383e-01,  5.9573e-02, -7.5091e-01],\n",
              "                        [-8.4936e-02, -9.3738e-01, -6.8978e-01]]],\n",
              "              \n",
              "              \n",
              "                      [[[-3.0389e-01,  1.9475e-01,  3.3871e-01],\n",
              "                        [-2.0277e-01,  7.5022e-02, -7.8741e-02],\n",
              "                        [ 1.7420e-02,  2.6375e-02, -4.7024e-02]],\n",
              "              \n",
              "                       [[-1.4722e-02, -2.0154e-02,  2.5312e-03],\n",
              "                        [-3.7887e-02,  7.2585e-02,  6.1196e-02],\n",
              "                        [ 3.1347e-02, -1.7957e-03, -1.3514e-02]],\n",
              "              \n",
              "                       [[-1.0993e+00, -5.2536e-01,  3.1256e-01],\n",
              "                        [-2.3626e-01, -2.3706e-01,  5.4430e-02],\n",
              "                        [-5.0243e-01, -3.6821e-01, -3.5478e-02]],\n",
              "              \n",
              "                       ...,\n",
              "              \n",
              "                       [[-1.8351e-02, -4.9239e-03, -1.4250e-03],\n",
              "                        [ 4.7892e-02,  5.8783e-02,  6.2713e-02],\n",
              "                        [-1.7585e-02,  6.3228e-02,  8.6347e-02]],\n",
              "              \n",
              "                       [[ 2.6868e-02,  7.7785e-02,  1.5887e-01],\n",
              "                        [ 4.1993e-02,  8.3397e-02,  2.1925e-01],\n",
              "                        [ 2.8185e-02,  8.2780e-03,  1.4451e-01]],\n",
              "              \n",
              "                       [[-6.0982e-01,  8.0479e-01, -1.9633e+00],\n",
              "                        [-4.6364e-01, -3.8113e-01,  7.6545e-01],\n",
              "                        [-3.5711e-01, -4.2553e-01, -6.0318e-01]]],\n",
              "              \n",
              "              \n",
              "                      ...,\n",
              "              \n",
              "              \n",
              "                      [[[-1.4068e-01, -2.7150e-01, -3.2368e-01],\n",
              "                        [ 2.5201e-02,  3.3989e-02,  4.9901e-02],\n",
              "                        [-3.0111e-01, -3.0475e-01, -3.5534e-02]],\n",
              "              \n",
              "                       [[-7.1532e-02,  4.4234e-02,  1.4468e-02],\n",
              "                        [ 7.9788e-02,  1.2481e-03,  3.7203e-02],\n",
              "                        [-8.7225e-02, -2.8180e-03,  4.6198e-02]],\n",
              "              \n",
              "                       [[-7.3755e-01,  5.6381e-01,  3.0378e-02],\n",
              "                        [ 6.1260e-02, -1.6322e+00, -2.0973e-01],\n",
              "                        [-1.5317e-02,  1.1321e+00, -7.3699e-01]],\n",
              "              \n",
              "                       ...,\n",
              "              \n",
              "                       [[-7.8348e-02,  4.9432e-03, -7.1097e-02],\n",
              "                        [-4.1652e-02, -8.2374e-02, -7.3583e-02],\n",
              "                        [-8.7404e-02,  4.2353e-03, -8.3468e-02]],\n",
              "              \n",
              "                       [[-9.8267e-02,  7.0313e-02, -1.6719e-02],\n",
              "                        [-5.9570e-02, -3.4745e-02,  4.2621e-02],\n",
              "                        [-8.2484e-03,  6.8217e-02, -8.6022e-02]],\n",
              "              \n",
              "                       [[-2.4495e-01, -6.5967e-01,  6.6229e-01],\n",
              "                        [-6.5579e-01,  1.9987e-01, -2.7890e-02],\n",
              "                        [ 2.4458e-01,  2.6658e-01,  2.0714e-01]]],\n",
              "              \n",
              "              \n",
              "                      [[[ 8.4288e-02,  4.0224e-01, -1.3121e-01],\n",
              "                        [-3.2878e-01, -4.9547e-01, -5.5531e-01],\n",
              "                        [ 3.6967e-01, -1.5010e-01, -5.9080e-02]],\n",
              "              \n",
              "                       [[ 5.0953e-02, -9.7325e-02, -4.4647e-02],\n",
              "                        [-6.0801e-02, -4.4545e-02, -8.5065e-02],\n",
              "                        [-1.4627e-01, -4.2957e-02,  7.8306e-03]],\n",
              "              \n",
              "                       [[ 1.2205e-01, -2.9831e-01,  9.3728e-01],\n",
              "                        [-2.4161e-01,  8.0154e-02,  1.0489e+00],\n",
              "                        [-1.8723e-01, -1.6895e-01,  2.5083e-01]],\n",
              "              \n",
              "                       ...,\n",
              "              \n",
              "                       [[-1.8837e-03,  1.7723e-02,  1.2121e-01],\n",
              "                        [-1.0820e-02,  5.6786e-03,  9.4793e-03],\n",
              "                        [ 2.8193e-02,  8.3935e-02, -6.7097e-03]],\n",
              "              \n",
              "                       [[-8.2642e-02, -2.0685e-01,  2.8025e-02],\n",
              "                        [-2.5064e-01, -2.9952e-01,  3.0539e-01],\n",
              "                        [ 2.1049e-01,  1.0064e-01,  1.4616e-01]],\n",
              "              \n",
              "                       [[-7.6278e-01,  1.6104e-01,  9.8531e-01],\n",
              "                        [-1.0665e+00, -1.4817e-01,  2.2555e-01],\n",
              "                        [ 6.7066e-01,  4.9713e-02, -2.8336e-01]]],\n",
              "              \n",
              "              \n",
              "                      [[[ 3.1668e-01,  3.3215e-01,  1.5191e-01],\n",
              "                        [ 2.9540e-03,  1.1883e-01, -3.0493e-01],\n",
              "                        [-1.8665e-01, -3.5134e-01,  2.9979e-01]],\n",
              "              \n",
              "                       [[-1.0511e-01,  3.8374e-02, -6.1916e-02],\n",
              "                        [ 2.5490e-03,  1.0312e-01,  2.0245e-02],\n",
              "                        [-1.3183e-01,  3.2125e-02,  2.0738e-02]],\n",
              "              \n",
              "                       [[ 1.2512e-02,  3.4398e-01, -1.1899e+00],\n",
              "                        [-6.3977e-01,  4.6885e-01,  1.9931e-01],\n",
              "                        [-4.9532e-01,  3.0755e-01, -2.1234e-01]],\n",
              "              \n",
              "                       ...,\n",
              "              \n",
              "                       [[ 8.2203e-03,  5.9872e-03,  3.9646e-02],\n",
              "                        [-1.0216e-02, -2.2742e-02,  3.5296e-03],\n",
              "                        [ 1.2302e-02, -4.8324e-03,  8.5512e-02]],\n",
              "              \n",
              "                       [[ 1.4132e-01, -9.7523e-02, -3.1583e-02],\n",
              "                        [ 6.1150e-02, -1.5436e-02, -1.5065e-01],\n",
              "                        [-5.5212e-02,  2.5070e-01,  8.4240e-02]],\n",
              "              \n",
              "                       [[ 3.2620e-01, -1.5887e+00, -8.5140e-01],\n",
              "                        [-3.6944e-01,  2.4198e-02, -7.0735e-01],\n",
              "                        [ 7.8092e-02,  4.5345e-01,  2.7243e-01]]]], device='cuda:0')),\n",
              "             ('cnlayers.3.bias',\n",
              "              tensor([ 0.0459,  0.0345,  0.0131,  0.0266, -0.0601, -0.1892, -0.0064, -0.0528,\n",
              "                      -0.0011, -0.0083, -0.0210, -0.1543,  0.0096, -0.0812, -0.0572, -0.0438,\n",
              "                      -0.1325, -0.0048, -0.0141, -0.0435,  0.0228, -0.0359, -0.0970, -0.1030,\n",
              "                      -0.0241,  0.0008, -0.0356, -0.0716, -0.0233, -0.0119, -0.0244,  0.0105,\n",
              "                      -0.0267,  0.0026, -0.0478, -0.0353, -0.1234,  0.1453,  0.0148, -0.0124,\n",
              "                      -0.0139, -0.0248,  0.0671, -0.0238, -0.0601, -0.0187, -0.0214,  0.0303,\n",
              "                       0.0085, -0.0408,  0.0045, -0.0223,  0.1183,  0.0795, -0.0281, -0.1632,\n",
              "                      -0.0371,  0.2210, -0.1509, -0.1778, -0.0444, -0.0323, -0.0098, -0.0360],\n",
              "                     device='cuda:0')),\n",
              "             ('linearlayers.1.weight',\n",
              "              tensor([[ 0.0164, -0.1094, -0.5437,  ..., -0.3529, -1.6949, -0.4876],\n",
              "                      [ 0.2428,  0.1648, -0.6799,  ...,  0.3360, -0.7519, -0.4978],\n",
              "                      [ 0.1524,  0.9282,  0.1741,  ..., -0.3638, -0.5372,  0.1460],\n",
              "                      ...,\n",
              "                      [-0.0174,  0.3423,  0.5499,  ...,  0.3972, -0.4202,  0.1918],\n",
              "                      [-0.4438, -0.7502, -0.4414,  ..., -0.2378, -0.8739, -0.3390],\n",
              "                      [ 0.4624,  0.5684,  0.4664,  ...,  0.0784, -1.2859,  0.0667]],\n",
              "                     device='cuda:0')),\n",
              "             ('linearlayers.1.bias',\n",
              "              tensor([-0.1664, -1.5226,  0.0234, -1.4055, -0.9618, -0.9474, -0.8281, -1.0457,\n",
              "                      -1.1162, -0.6677, -0.3669, -0.3438, -0.7447, -0.5400, -0.2885, -0.7309,\n",
              "                      -0.7999, -0.7943, -0.8220, -0.8676, -0.3867, -1.6123, -0.7049, -0.0237,\n",
              "                      -1.0527, -0.6051, -0.1323, -1.1377, -0.4810, -0.9495, -0.8737, -0.7793,\n",
              "                      -0.2049, -0.9931, -0.7169, -1.4621, -0.5559, -0.7987, -0.3508, -0.5448,\n",
              "                      -0.5469, -0.4740, -0.1165,  0.1379, -0.6955, -0.7518, -1.0696, -1.0279,\n",
              "                      -1.2816, -1.0434, -0.7175, -0.5678, -0.6521, -0.7527, -1.2138, -1.2527,\n",
              "                      -0.5824, -0.7024, -0.7467, -0.6257, -1.0669, -1.0662, -0.8672, -0.9539,\n",
              "                      -1.2781, -0.7419, -0.5261, -0.9953,  0.3179, -1.0821, -1.0098, -1.1759,\n",
              "                      -0.8479, -1.2025, -0.8797, -1.1779, -0.5975, -0.8223, -0.7635, -1.1770,\n",
              "                      -0.2711, -1.0956, -0.6757, -0.7442, -0.7348, -0.8043, -0.8594, -0.5894,\n",
              "                      -0.5275, -0.5725, -0.9193, -1.0251, -0.7241, -0.3364, -0.5525, -1.2650,\n",
              "                      -1.1627, -1.1367, -0.7357, -0.3778, -0.5834, -0.7794, -0.8939, -0.9705,\n",
              "                      -1.0326, -0.9846, -1.0005, -1.5121, -0.9874, -0.6342, -0.9838, -0.3238,\n",
              "                      -1.0529, -0.3255, -0.5646, -0.5142, -0.8665, -0.9060, -1.1031, -0.6395,\n",
              "                      -1.3676, -0.0279, -0.3566, -0.7172, -0.9993, -0.8895, -0.8326, -1.2288],\n",
              "                     device='cuda:0')),\n",
              "             ('linearlayers.3.weight',\n",
              "              tensor([[ 0.1007, -0.0488,  0.1235,  ...,  0.0417,  0.4346, -0.1423],\n",
              "                      [ 0.1158, -0.0893,  0.0595,  ..., -0.0534, -0.0289, -0.0460],\n",
              "                      [-0.0362, -0.0381,  0.1199,  ...,  0.1598, -0.0992, -0.2513],\n",
              "                      ...,\n",
              "                      [-0.9195,  0.4158, -0.3827,  ..., -0.1318, -0.0749,  0.2395],\n",
              "                      [-0.0276, -0.1209,  0.0485,  ..., -0.0316, -0.3367,  0.3812],\n",
              "                      [-0.8683,  0.0538, -0.5240,  ...,  0.0702,  0.0884,  0.0491]],\n",
              "                     device='cuda:0')),\n",
              "             ('linearlayers.3.bias',\n",
              "              tensor([ 0.4583, -1.5806,  0.7329,  0.3743, -0.3521, -0.4624,  0.6638, -0.3998,\n",
              "                      -0.5134, -0.6524], device='cuda:0'))])"
            ]
          },
          "metadata": {},
          "execution_count": 50
        }
      ]
    },
    {
      "cell_type": "code",
      "source": [
        "torch.save(model,'model.pt')"
      ],
      "metadata": {
        "id": "2-Z5TIyxShXB"
      },
      "execution_count": 51,
      "outputs": []
    }
  ]
}