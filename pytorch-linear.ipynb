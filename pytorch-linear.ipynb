{
  "nbformat": 4,
  "nbformat_minor": 0,
  "metadata": {
    "colab": {
      "provenance": [],
      "gpuType": "T4",
      "authorship_tag": "ABX9TyMi9gUQhATbB5kCvUVSuZOp",
      "include_colab_link": true
    },
    "kernelspec": {
      "name": "python3",
      "display_name": "Python 3"
    },
    "language_info": {
      "name": "python"
    },
    "accelerator": "GPU"
  },
  "cells": [
    {
      "cell_type": "markdown",
      "metadata": {
        "id": "view-in-github",
        "colab_type": "text"
      },
      "source": [
        "<a href=\"https://colab.research.google.com/github/abdulwasaeee/Pytorch-Bootcamp/blob/main/pytorch-linear.ipynb\" target=\"_parent\"><img src=\"https://colab.research.google.com/assets/colab-badge.svg\" alt=\"Open In Colab\"/></a>"
      ]
    },
    {
      "cell_type": "code",
      "execution_count": 25,
      "metadata": {
        "id": "D2qhwmO5ODSF"
      },
      "outputs": [],
      "source": [
        "import torch\n",
        "from torch import nn\n",
        "import matplotlib.pyplot as plt"
      ]
    },
    {
      "cell_type": "code",
      "source": [
        "class LM(nn.Module):\n",
        "  def __init__(self):\n",
        "    super().__init__()\n",
        "    self.linear_layer= nn.Linear(in_features=1, out_features=1)\n",
        "\n",
        "  def forward(self,x):\n",
        "    return self.linear_layer(x)"
      ],
      "metadata": {
        "id": "MtQI5EyMPh-i"
      },
      "execution_count": 7,
      "outputs": []
    },
    {
      "cell_type": "code",
      "source": [
        "w= 0.7\n",
        "b=0.3\n",
        "x= torch.arange(0,1,0.02).unsqueeze(dim=1)\n",
        "x"
      ],
      "metadata": {
        "colab": {
          "base_uri": "https://localhost:8080/"
        },
        "id": "V9E3RE7xRqKI",
        "outputId": "a3bd8d7a-1d01-4d63-b008-ed8180184928"
      },
      "execution_count": 3,
      "outputs": [
        {
          "output_type": "execute_result",
          "data": {
            "text/plain": [
              "tensor([[0.0000],\n",
              "        [0.0200],\n",
              "        [0.0400],\n",
              "        [0.0600],\n",
              "        [0.0800],\n",
              "        [0.1000],\n",
              "        [0.1200],\n",
              "        [0.1400],\n",
              "        [0.1600],\n",
              "        [0.1800],\n",
              "        [0.2000],\n",
              "        [0.2200],\n",
              "        [0.2400],\n",
              "        [0.2600],\n",
              "        [0.2800],\n",
              "        [0.3000],\n",
              "        [0.3200],\n",
              "        [0.3400],\n",
              "        [0.3600],\n",
              "        [0.3800],\n",
              "        [0.4000],\n",
              "        [0.4200],\n",
              "        [0.4400],\n",
              "        [0.4600],\n",
              "        [0.4800],\n",
              "        [0.5000],\n",
              "        [0.5200],\n",
              "        [0.5400],\n",
              "        [0.5600],\n",
              "        [0.5800],\n",
              "        [0.6000],\n",
              "        [0.6200],\n",
              "        [0.6400],\n",
              "        [0.6600],\n",
              "        [0.6800],\n",
              "        [0.7000],\n",
              "        [0.7200],\n",
              "        [0.7400],\n",
              "        [0.7600],\n",
              "        [0.7800],\n",
              "        [0.8000],\n",
              "        [0.8200],\n",
              "        [0.8400],\n",
              "        [0.8600],\n",
              "        [0.8800],\n",
              "        [0.9000],\n",
              "        [0.9200],\n",
              "        [0.9400],\n",
              "        [0.9600],\n",
              "        [0.9800]])"
            ]
          },
          "metadata": {},
          "execution_count": 3
        }
      ]
    },
    {
      "cell_type": "code",
      "source": [
        "y=w*x+b"
      ],
      "metadata": {
        "id": "DwoRDeQBS6l5"
      },
      "execution_count": 4,
      "outputs": []
    },
    {
      "cell_type": "code",
      "source": [
        "trainsplit=int(0.8*len(x))\n",
        "xtrain, ytrain= x[:trainsplit], y[:trainsplit]\n",
        "xtest,  ytest= x[trainsplit:], y[trainsplit:]"
      ],
      "metadata": {
        "id": "raQS5j1qUhOz"
      },
      "execution_count": 15,
      "outputs": []
    },
    {
      "cell_type": "code",
      "source": [
        "device= \"cuda\" if torch.cuda.is_available() else \"cpu\"\n",
        "device"
      ],
      "metadata": {
        "colab": {
          "base_uri": "https://localhost:8080/",
          "height": 36
        },
        "id": "xMPWf85oS87R",
        "outputId": "17cd71db-545f-4730-ed17-13a9d95f1eb4"
      },
      "execution_count": 5,
      "outputs": [
        {
          "output_type": "execute_result",
          "data": {
            "text/plain": [
              "'cuda'"
            ],
            "application/vnd.google.colaboratory.intrinsic+json": {
              "type": "string"
            }
          },
          "metadata": {},
          "execution_count": 5
        }
      ]
    },
    {
      "cell_type": "code",
      "source": [
        "model=LM()"
      ],
      "metadata": {
        "id": "kLDcY2KGTZL7"
      },
      "execution_count": 8,
      "outputs": []
    },
    {
      "cell_type": "code",
      "source": [
        "next(model.parameters()).device"
      ],
      "metadata": {
        "colab": {
          "base_uri": "https://localhost:8080/"
        },
        "id": "oXmN2ssrTQl-",
        "outputId": "fa6e7c42-e837-4ee4-808b-5c2bf2894950"
      },
      "execution_count": 10,
      "outputs": [
        {
          "output_type": "execute_result",
          "data": {
            "text/plain": [
              "device(type='cpu')"
            ]
          },
          "metadata": {},
          "execution_count": 10
        }
      ]
    },
    {
      "cell_type": "code",
      "source": [
        "model.to(device)\n",
        "next(model.parameters()).device"
      ],
      "metadata": {
        "colab": {
          "base_uri": "https://localhost:8080/"
        },
        "id": "nBqJPloPTk2c",
        "outputId": "fef2adce-cf5a-435c-d3e6-f4ad426e3c6b"
      },
      "execution_count": 12,
      "outputs": [
        {
          "output_type": "execute_result",
          "data": {
            "text/plain": [
              "device(type='cuda', index=0)"
            ]
          },
          "metadata": {},
          "execution_count": 12
        }
      ]
    },
    {
      "cell_type": "code",
      "source": [
        "model.state_dict()"
      ],
      "metadata": {
        "colab": {
          "base_uri": "https://localhost:8080/"
        },
        "id": "zo2KI9ztT4oJ",
        "outputId": "6c8d5a95-97ab-40f5-8ae2-a8ee2e0fd9c8"
      },
      "execution_count": 13,
      "outputs": [
        {
          "output_type": "execute_result",
          "data": {
            "text/plain": [
              "OrderedDict([('linear_layer.weight', tensor([[0.8189]], device='cuda:0')),\n",
              "             ('linear_layer.bias', tensor([-0.4538], device='cuda:0'))])"
            ]
          },
          "metadata": {},
          "execution_count": 13
        }
      ]
    },
    {
      "cell_type": "code",
      "source": [
        "lossfn= nn.L1Loss()\n",
        "\n",
        "opt= torch.optim.Adam(params=model.parameters(),lr=0.01)"
      ],
      "metadata": {
        "id": "O2O_wGeZT9mz"
      },
      "execution_count": 14,
      "outputs": []
    },
    {
      "cell_type": "code",
      "source": [
        "torch.manual_seed(42)\n",
        "epochs=100\n",
        "\n",
        "xtrain=xtrain.to(device)\n",
        "xtest=xtest.to(device)\n",
        "ytrain=ytrain.to(device)\n",
        "ytest=ytest.to(device)\n",
        "\n",
        "for i in range(epochs):\n",
        "  model.train()\n",
        "  ypred=model(xtrain)\n",
        "  loss=lossfn(ypred,ytrain)\n",
        "  opt.zero_grad()\n",
        "  loss.backward()\n",
        "  opt.step()\n",
        "  model.eval()\n",
        "  with torch.inference_mode():\n",
        "    testpred=model(xtest)\n",
        "    testloss=lossfn(testpred,ytest)\n",
        "  if i%10==0:\n",
        "    print(f\"epoch: {i} | trainloss: {loss} | testloss: {testloss}\")"
      ],
      "metadata": {
        "colab": {
          "base_uri": "https://localhost:8080/"
        },
        "id": "ty44VW8EUNsf",
        "outputId": "3f07a526-ebea-472d-81e5-900bb243f96c"
      },
      "execution_count": 22,
      "outputs": [
        {
          "output_type": "stream",
          "name": "stdout",
          "text": [
            "epoch: 0 | trainloss: 0.07553871721029282 | testloss: 0.1547338217496872\n",
            "epoch: 10 | trainloss: 0.06475552916526794 | testloss: 0.1368638277053833\n",
            "epoch: 20 | trainloss: 0.05359381437301636 | testloss: 0.11577407270669937\n",
            "epoch: 30 | trainloss: 0.042066629976034164 | testloss: 0.09001901000738144\n",
            "epoch: 40 | trainloss: 0.03018566407263279 | testloss: 0.06443196535110474\n",
            "epoch: 50 | trainloss: 0.017969029024243355 | testloss: 0.036818455904722214\n",
            "epoch: 60 | trainloss: 0.005436902400106192 | testloss: 0.009147805161774158\n",
            "epoch: 70 | trainloss: 0.003994293510913849 | testloss: 0.008977198973298073\n",
            "epoch: 80 | trainloss: 6.892457895446569e-05 | testloss: 0.0028991044964641333\n",
            "epoch: 90 | trainloss: 0.001335898065008223 | testloss: 0.000981146120466292\n"
          ]
        }
      ]
    },
    {
      "cell_type": "code",
      "source": [
        "model.state_dict()"
      ],
      "metadata": {
        "colab": {
          "base_uri": "https://localhost:8080/"
        },
        "id": "wQySThJIXaED",
        "outputId": "9a608513-ff9b-4465-a0fb-f61c9bfbb27c"
      },
      "execution_count": 23,
      "outputs": [
        {
          "output_type": "execute_result",
          "data": {
            "text/plain": [
              "OrderedDict([('linear_layer.weight', tensor([[0.7031]], device='cuda:0')),\n",
              "             ('linear_layer.bias', tensor([0.2989], device='cuda:0'))])"
            ]
          },
          "metadata": {},
          "execution_count": 23
        }
      ]
    },
    {
      "cell_type": "code",
      "source": [
        "plt.scatter(xtrain.cpu(),ytrain.cpu(),c='b')\n",
        "plt.scatter(xtest.cpu(),model(xtest).detach().cpu(),c='r')"
      ],
      "metadata": {
        "colab": {
          "base_uri": "https://localhost:8080/",
          "height": 447
        },
        "id": "jg6nlzhNXmTy",
        "outputId": "c4bbb3de-546a-47da-dc16-df1183db1574"
      },
      "execution_count": 28,
      "outputs": [
        {
          "output_type": "execute_result",
          "data": {
            "text/plain": [
              "<matplotlib.collections.PathCollection at 0x78d8597cb620>"
            ]
          },
          "metadata": {},
          "execution_count": 28
        },
        {
          "output_type": "display_data",
          "data": {
            "text/plain": [
              "<Figure size 640x480 with 1 Axes>"
            ],
            "image/png": "[encoded data removed]"
          },
          "metadata": {}
        }
      ]
    },
    {
      "cell_type": "code",
      "source": [
        "torch.save(model,'model.pt')"
      ],
      "metadata": {
        "id": "JWsAdtbsYXCA"
      },
      "execution_count": 29,
      "outputs": []
    },
    {
      "cell_type": "code",
      "source": [
        "m2=torch.load('model.pt',weights_only=False)\n",
        "m2"
      ],
      "metadata": {
        "colab": {
          "base_uri": "https://localhost:8080/"
        },
        "id": "wVhKmZECYcvB",
        "outputId": "bc2e7350-c6ab-45bf-f720-458671f0e1fc"
      },
      "execution_count": 31,
      "outputs": [
        {
          "output_type": "execute_result",
          "data": {
            "text/plain": [
              "LM(\n",
              "  (linear_layer): Linear(in_features=1, out_features=1, bias=True)\n",
              ")"
            ]
          },
          "metadata": {},
          "execution_count": 31
        }
      ]
    },
    {
      "cell_type": "code",
      "source": [
        "torch.save(model.state_dict(),'dict.pt')"
      ],
      "metadata": {
        "id": "C58GAH5hZUP0"
      },
      "execution_count": 32,
      "outputs": []
    },
    {
      "cell_type": "code",
      "source": [
        "m3=LM()\n",
        "m3.state_dict()"
      ],
      "metadata": {
        "colab": {
          "base_uri": "https://localhost:8080/"
        },
        "id": "whhjEaQHZfWF",
        "outputId": "fc740fa6-e3e0-4a1f-dcc0-1dc394e29877"
      },
      "execution_count": 34,
      "outputs": [
        {
          "output_type": "execute_result",
          "data": {
            "text/plain": [
              "OrderedDict([('linear_layer.weight', tensor([[-0.2343]])),\n",
              "             ('linear_layer.bias', tensor([0.9186]))])"
            ]
          },
          "metadata": {},
          "execution_count": 34
        }
      ]
    },
    {
      "cell_type": "code",
      "source": [
        "m3.load_state_dict(torch.load('dict.pt'))\n",
        "m3.state_dict()"
      ],
      "metadata": {
        "colab": {
          "base_uri": "https://localhost:8080/"
        },
        "id": "5UiAUiIOZmaj",
        "outputId": "e1d6a5e2-42bd-4560-dd0f-0d8b690e273c"
      },
      "execution_count": 37,
      "outputs": [
        {
          "output_type": "execute_result",
          "data": {
            "text/plain": [
              "OrderedDict([('linear_layer.weight', tensor([[0.7031]])),\n",
              "             ('linear_layer.bias', tensor([0.2989]))])"
            ]
          },
          "metadata": {},
          "execution_count": 37
        }
      ]
    }
  ]
}